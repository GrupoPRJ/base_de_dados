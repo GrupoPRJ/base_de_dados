{
  "cells": [
    {
      "attachments": {},
      "cell_type": "markdown",
      "metadata": {},
      "source": [
        "### Script a ser utilizado para retirar informação de um ficheiro genbank armazenado na própria máquina ###"
      ]
    },
    {
      "cell_type": "code",
      "execution_count": 5,
      "metadata": {},
      "outputs": [],
      "source": [
        "import mysql.connector as SQLC\n",
        "\n",
        "DataBase = SQLC.connect(\n",
        "   host =\"geo.di.uminho.pt\",\n",
        "   user =\"bioinformatica\",\n",
        "   password =\"20221207\",\n",
        "    database =\"grupo_PRJ\"\n",
        ")\n",
        "Cursor = DataBase.cursor()"
      ]
    },
    {
      "cell_type": "code",
      "execution_count": 6,
      "metadata": {
        "id": "cLP_ZSGzKlRI"
      },
      "outputs": [],
      "source": [
        "#é necessário introduzir o email (Entrez.email = '')\n",
        "\n",
        "import re \n",
        "from Bio import SeqIO\n",
        "from Bio import Entrez\n",
        "Entrez.email = '********@alunos.uminho.pt'"
      ]
    },
    {
      "cell_type": "code",
      "execution_count": 7,
      "metadata": {
        "id": "ZJW6BJ4FKlRJ"
      },
      "outputs": [],
      "source": [
        "#fonte = open(\"L42022.1.gb\",'r')\n",
        "fonte = open(\"L42023.1.gb\",'r')\n",
        "locus = fonte.read()\n",
        "fonte.close()"
      ]
    },
    {
      "cell_type": "code",
      "execution_count": 8,
      "metadata": {
        "id": "233okZwDKlRK"
      },
      "outputs": [],
      "source": [
        "record = SeqIO.read(\"sequence.gb\", 'genbank')"
      ]
    },
    {
      "cell_type": "markdown",
      "metadata": {
        "id": "ntlCbE9WKlRK"
      },
      "source": [
        "### Tabela Locus ###"
      ]
    },
    {
      "cell_type": "code",
      "execution_count": 9,
      "metadata": {
        "id": "oZkjalywKlRL",
        "outputId": "be08be55-aada-47db-a9b5-128b87cd314a"
      },
      "outputs": [
        {
          "name": "stdout",
          "output_type": "stream",
          "text": [
            "INSERT INTO locus (accession, locus_name, molecule, segment_type, genbank_date, genbank_division) VALUES ('NM_001198530', 'NM_001198530', 'mRNA', 'linear', '30-DEC-2022', 'PRI')\n"
          ]
        }
      ],
      "source": [
        "accession=''\n",
        "accession_regex = re.search(r'ACCESSION\\s+(\\w+)', locus)\n",
        "if accession_regex:\n",
        "    accession = accession_regex.group(1)\n",
        "\n",
        "locus_name = \"\"\n",
        "locus_name_regex = re.match(r'LOCUS\\s+(\\w+)', locus)\n",
        "if locus_name_regex:\n",
        "    locus_name = locus_name_regex.group(1)\n",
        "\n",
        "molecule = ''\n",
        "molecule_regex = re.search(r'LOCUS[\\s\\w]+\\d+\\s[bp]{2}\\s+(\\w+)', locus)\n",
        "if molecule_regex:\n",
        "    molecule = molecule_regex.group(1)\n",
        "\n",
        "segment_type = ''\n",
        "segment_type_regex = re.search(r'LOCUS[\\s\\w]+\\d+\\s[bp]{2}\\s+\\w+\\s+(\\w+)', locus)\n",
        "if segment_type_regex:\n",
        "    segment_type = segment_type_regex.group(1)\n",
        "\n",
        "genbank_date = ''\n",
        "genbank_date_regex = re.search(r'LOCUS[\\s\\w]+\\d+\\s[bp]{2}[\\s\\w]+\\w{3}\\s+(\\d+-[A-Z]+-\\d+)', locus)\n",
        "if genbank_date_regex:\n",
        "    genbank_date = genbank_date_regex.group(1)\n",
        "\n",
        "genbank_division = ''\n",
        "genbank_division_regex = re.search(r'LOCUS[\\s\\w]+\\d+\\s[bp]{2}[\\s\\w]+(\\w{3})', locus)\n",
        "if genbank_division_regex:\n",
        "    genbank_division = genbank_division_regex.group(1)\n",
        "\n",
        "\n",
        "sql_locus = f\"INSERT INTO locus (accession, locus_name, molecule, segment_type, genbank_date, genbank_division) VALUES ('{accession}', '{locus_name}', '{molecule}', '{segment_type}', '{genbank_date}', '{genbank_division}')\"\n",
        "\n",
        "print(sql_locus)\n",
        "\n",
        "Cursor.execute(sql_locus)\n",
        "DataBase.commit()\n",
        "\n"
      ]
    },
    {
      "cell_type": "markdown",
      "metadata": {
        "id": "lVo1Qbl3KlRL"
      },
      "source": [
        "### Tabela sequences ###"
      ]
    },
    {
      "cell_type": "code",
      "execution_count": 10,
      "metadata": {
        "id": "Y6MCflAvKlRL",
        "outputId": "35035ff5-0245-4d3b-9938-ced5bc72f729"
      },
      "outputs": [
        {
          "name": "stdout",
          "output_type": "stream",
          "text": [
            "INSERT INTO sequences (seq, seq_length, locus_accession) VALUES ('GTCAATAATCTCCGCTCCCAGACTACTCCGTTCCTCCGGATTTCGATCCCCCTTTTTCTATCTGTCAATCAGCGCCGCCTTTGAACTGAAAAGCTCTCAGTCTAACTTCAACTCACTCAAATCCGAGCGGCACGAGCACCTCCTGTATCTTCGGCTTCCCCCCCCCTTTGCTCTTTATATCTGACTTCTTGTTGTTGTTGGTGTTTTTTTTTTTTTTACCCCCCTTTTTTATTTATTATTTTTTTGCACATTGATCGGATCCTTGGGAACGAGAGAAAAAAGAAACCCAAACTCACGCGTGCAGAAGATCTCCCCCCCCTTCCCCTCCCCTCCTCCCTCTTTTCCCCTCCCCAGGAGAAAAAGACCCCCAAGCAGAAAAAAGTTCACCTTGGACTCGTCTTTTTCTTGCAATATTTTTTGGGGGGGCAAAACTTTTTGGGGGTGATTTTTTTTGGCTTTTCTTCCTCCTTCATTTTTCTTCCAAAATTGCTGCTGGTGGGTGAAAAAAAAATGCCGCAGCTGAACGGCGGTGGAGGGGATGACCTAGGCGCCAACGACGAACTGATTTCCTTCAAAGACGAGGGCGAACAGGAGGAGAAGAGCTCCGAAAACTCCTCGGCAGAGAGGGATTTAGCTGATGTCAAATCGTCTCTAGTCAATGAATCAGAAACGAATCAAAACAGCTCCTCCGATTCCGAGGCGGAAAGACGGCCTCCGCCTCGCTCCGAAAGTTTCCGAGACAAATCCCGGGAAAGTTTGGAAGAAGCGGCCAAGAGGCAAGATGGAGGGCTCTTTAAGGGGCCACCGTATCCCGGCTACCCCTTCATCATGATCCCCGACCTGACGAGCCCCTACCTCCCCAACGGATCGCTCTCGCCCACCGCCCGAACCTCTAACAAAGTGCCAGTGGTGCAGCACCCTCACCATGTCCACCCCCTCACGCCTCTTATCACGTACAGCAATGAACACTTCACGCCGGGAAACCCACCTCCACACTTACCAGCCGACGTAGACCCCAAAACAGGAATCCCACGGCCTCCGCACCCTCCAGATATATCCCCGTATTACCCACTATCGCCTGGCACCGTAGGACAAATCCCCCATCCGCTAGGATGGTTAGTACCACAGCAAGGTCAACCAGTGTACCCAATCACGACAGGAGGATTCAGACACCCCTACCCCACAGCTCTGACCGTCAATGCTTCCATGTCCAGGTTCCCTCCCCATATGGTCCCACCACATCATACGCTACACACGACGGGCATTCCGCATCCGGCCATAGTCACACCAACAGTCAAACAGGAATCGTCCCAGAGTGATGTCGGCTCACTCCATAGTTCAAAGCATCAGGACTCCAAAAAGGAAGAAGAAAAGAAGAAGCCCCACATAAAGAAACCTCTTAATGCATTCATGTTGTATATGAAGGAAATGAGAGCAAAGGTCGTAGCTGAGTGCACGTTGAAAGAAAGCGCGGCCATCAACCAGATCCTTGGGCGGAGGTGGCATGCACTGTCCAGAGAAGAGCAAGCGAAATACTACGAGCTGGCCCGGAAGGAGCGACAGCTTCATATGCAACTGTACCCCGGCTGGTCCGCGCGGGATAACTATGGAAAGAAGAAGAAGAGGAAAAGGGACAAGCAGCCGGGAGAGACCAATGGAGAAAAAAAAAGTGCGTTCGCTACATACAAGGTGAAGGCAGCTGCCTCAGCCCACCCTCTTCAGATGGAAGCTTACTAGATTCGCCTCCCCCCTCCCCGAACCTGCTAGGCTCCCCTCCCCGAGACGCCAAGTCACAGACTGAGCAGACCCAGCCTCTGTCGCTGTCCCTGAAGCCCGACCCCCTGGCCCACCTGTCCATGATGCCTCCGCCACCCGCCCTCCTGCTCGCTGAGGCCACCCACAAGGCCTCCGCCCTCTGTCCCAACGGGGCCCTGGACCTGCCCCCAGCCGCTTTGCAGCCTGCCGCCCCCTCCTCATCAATTGCACAGCCGTCGACTTCTTCCTTACATTCCCACAGCTCCCTGGCCGGGACCCAGCCCCAGCCGCTGTCGCTCGTCACCAAGTCTTTAGAATAGCTTTAGCGTCGTGAACCCCGCTGCTTTGTTTATGGTTTTGTTTCACTTTTCTTAATTTGCCCCCCACCCCCACCTTGAAAGGTTTTGTTTTGTACTCTCTTAATTTTGTGCCATGTGGCTACATTAGTTGATGTTTATCGAGTTCATTGGTCAATATTTGACCCATTCTTATTTCAATTTCTCCTTTTAAATATGTAGATGAGAGAAGAACCTCATGATTCTACCAAAATTTTTATCAACAGCTGTTTAAAGTCTTTGTAGCGTTTAAAAAATATATATATATACATAACTGTTATGTAGTTCGGATAGCTTAGTTTTAAAAGACTGATTAAAAAACAAAAAGAAAAAAAAAGCAATTTTGAAGCAGCCCTCCAGAAGGAGTTGGTTCTGTATTATTTGTATTAAATACGAGCTTGCGAACCAATCATTTTACATCTGGTTTTTAAACCGTAAGGGCACCATGAATGCAGTGCCGTTACTTTTTTTTTTTTTTTCTGTGTGAAACAACTCTTATTGTGATGTTACTTGTTATTGTTTAAATGTACAGAAACAAAGGGTAAAAATGTGTTAATATACCTTGTTCCATGGTGTTGTTCTTTTGGGGGGAGGGGACGCTACTCAACACTTAATAGAATCACAACGCTGTTGGGCCAGTAGTATTTATTGCTTTAGAGATTGCTTGTCGTACCTGTATGTCGTCCCTTTTTAAATATGTTTTCCTTTTTCTTGAAACTGTATAAAGTTTTTTTCCCCCTTAGCATAAGCATCTTATATATAACAACTCATTTGTACAAGGTTTTTAAGTTTATATATAAAATGTGTATATATATTTTTGTTTCCCCTTTTTGACTTTTTTTTTTCTGTATGAAACCCAGATGTCACCAAATGGACATTAATAGTTGCATTAAGGATCAGTAGCATTAACAAAAGTTGCTTTAAAAGCCATTATGTAAAACAAGACTTGAAAATGAGTGAGGGAATTTTAGCGACACTGTCTGAGCAGCAGTGGGAACCATCTTCGTTTCCCCTTTGAACTCCCAGTGGGATGCCCTACCCTGCGCCCTTAGGACCCGGACTGACCGTGTACAAAACTTTACGTGCCAAAATTCTCAGTGAATTTAGCTTTCTCCCTCTTTTTGATGCTGTAATTTTTGTTCATCATGTTTTGCTGTGATGTTACATAGGTAGATTTGTATGTAGTTTTAATGTCACCTATAACAAAATGTGTTTGGTAGCAGATTGTCCAGAAAGCATTTTAAATGAAGAGGTATAAACCCTTAAGGGCCAAAATTCTGTATATTAGATTACTCTTAAACGAAAAACCAGCTGCCGCTTTTATGTACACATATTACATACGAGTAGGCAGCAGACTTTAAAAATAAAAAAAACCTAGGCATGTTGATGTTGCAAAATGCTGTATAAAGCTGAAACCTGTTCATTCAGTGCCATTGTAGTTGACATGAAGCGATTGTAAAACTGTCTCCGATTTTTCTCTGGTTTATTAAAATGCTAACTATAACATTTTTTGTGAATACTTTGAATGTTTCCTAACAGTTGTGATGTTACTGTTCCGTTTTATGCTCTTATTCCAAGTTCATTTTTAATGGTTTGGAAGCCATTTTTGTAATGAATAAATGTTCATGCTGTACAGTATCTGTAGCATGCCGTTCTGGATTAATAAAAGCAACTTAGTATGTGCAGATAAA', 3781, 'NM_001198530')\n"
          ]
        }
      ],
      "source": [
        "seq = \"\"\n",
        "seq_regex = re.findall(r'^\\s+\\d+ [actg ]+', locus, re.MULTILINE )\n",
        "if seq_regex:\n",
        "    for linha in seq_regex:\n",
        "        m = re.match( r'\\s+\\d+ (.+)', linha, re.DOTALL )\n",
        "        seq = seq + re.sub(r'\\s+', '', m.group(1) )\n",
        "\n",
        "seq_length = len(seq)\n",
        "\n",
        "locus_accession = accession\n",
        "\n",
        "sql_sequences = f\"INSERT INTO sequences (seq, seq_length, locus_accession) VALUES ('{seq.upper()}', {seq_length}, '{locus_accession}')\"\n",
        "\n",
        "print(sql_sequences)\n",
        "\n",
        "Cursor.execute(sql_sequences)\n",
        "\n",
        "DataBase.commit()\n"
      ]
    },
    {
      "cell_type": "markdown",
      "metadata": {
        "id": "U0hWj41UKlRM"
      },
      "source": [
        "### Tabela definition ###\n"
      ]
    },
    {
      "cell_type": "code",
      "execution_count": 11,
      "metadata": {
        "id": "YIdlQXu7KlRM",
        "outputId": "dbeded07-dc96-4fb2-c3d4-a2c0e8ba921d"
      },
      "outputs": [
        {
          "name": "stdout",
          "output_type": "stream",
          "text": [
            "INSERT INTO definition (definition, locus_accession) VALUES ('Homo sapiens transcription factor 7 like 2 (TCF7L2), transcript variant 12, mRNA', 'NM_001198530')\n"
          ]
        }
      ],
      "source": [
        "definition = record.description\n",
        "\n",
        "locus_accession = accession\n",
        "\n",
        "sql_definition = f\"INSERT INTO definition (definition, locus_accession) VALUES ('{definition}', '{locus_accession}')\"\n",
        "\n",
        "print(sql_definition)\n",
        "\n",
        "Cursor.execute(sql_definition)\n",
        "\n",
        "DataBase.commit()"
      ]
    },
    {
      "cell_type": "markdown",
      "metadata": {
        "id": "69soMHmTKlRM"
      },
      "source": [
        "### Tabela locus_keywords ###"
      ]
    },
    {
      "cell_type": "code",
      "execution_count": 12,
      "metadata": {
        "id": "R3U5_NEeKlRM",
        "outputId": "45b0aa05-9b8b-46e2-8b8d-531e89d0c009"
      },
      "outputs": [
        {
          "name": "stdout",
          "output_type": "stream",
          "text": [
            "INSERT INTO locus_keywords (locus_accession, key_order, keyword_name) VALUES ('NM_001198530', 1, 'RefSeq')\n"
          ]
        }
      ],
      "source": [
        "keyword_dict = {}\n",
        "\n",
        "keywords_name = record.annotations['keywords']\n",
        "\n",
        "for num, keyword in enumerate(keywords_name):\n",
        "    if keywords_name == ['']:\n",
        "        print('Este ficheiro não tem keywords associadas')\n",
        "    else:\n",
        "        sql_locus_keywords = f\"INSERT INTO locus_keywords (locus_accession, key_order, keyword_name) VALUES ('{locus_accession}', {num+1}, '{keyword}')\"\n",
        "        Cursor.execute(sql_locus_keywords)\n",
        "        DataBase.commit()\n",
        "        print(sql_locus_keywords)"
      ]
    },
    {
      "cell_type": "markdown",
      "metadata": {
        "id": "rcbwzBSLKlRN"
      },
      "source": [
        "### Tabela source ###"
      ]
    },
    {
      "cell_type": "code",
      "execution_count": 13,
      "metadata": {
        "id": "2h5mnVSuKlRN",
        "outputId": "22bb7e50-268b-4c4e-b91a-ac64ffcad95e"
      },
      "outputs": [
        {
          "name": "stdout",
          "output_type": "stream",
          "text": [
            "INSERT INTO source (scientific_name, locus_accession) VALUES ('Homo sapiens (human)', 'NM_001198530')\n"
          ]
        }
      ],
      "source": [
        "scientific_name = record.annotations['source']\n",
        "\n",
        "sql_source = f\"INSERT INTO source (scientific_name, locus_accession) VALUES ('{scientific_name}', '{locus_accession}')\"\n",
        "\n",
        "print(sql_source)\n",
        "\n",
        "Cursor.execute(sql_source)\n",
        "\n",
        "DataBase.commit()"
      ]
    },
    {
      "cell_type": "markdown",
      "metadata": {
        "id": "HQSzES3NKlRN"
      },
      "source": [
        "### Tabela taxonomy ###\n"
      ]
    },
    {
      "cell_type": "code",
      "execution_count": 14,
      "metadata": {
        "id": "bmFGHbUSKlRN",
        "outputId": "2af7a6ee-0258-4de0-d223-43fc25afdc5d"
      },
      "outputs": [
        {
          "name": "stdout",
          "output_type": "stream",
          "text": [
            "INSERT INTO taxonomy (taxonomy, locus_accession) VALUES ('Eukaryota; Metazoa; Chordata; Craniata; Vertebrata; Euteleostomi; Mammalia; Eutheria; Euarchontoglires; Primates; Haplorrhini; Catarrhini; Hominidae; Homo', 'NM_001198530')\n"
          ]
        }
      ],
      "source": [
        "taxonomy = record.annotations['taxonomy']\n",
        "\n",
        "sql_taxonomy = f\"INSERT INTO taxonomy (taxonomy, locus_accession) VALUES ('{'; '.join(taxonomy)}', '{locus_accession}')\"\n",
        "\n",
        "print(sql_taxonomy)\n",
        "\n",
        "Cursor.execute(sql_taxonomy)\n",
        "\n",
        "DataBase.commit()"
      ]
    },
    {
      "cell_type": "markdown",
      "metadata": {
        "id": "TdQNagSAKlRO"
      },
      "source": [
        "### Tabela reference ###"
      ]
    },
    {
      "cell_type": "code",
      "execution_count": 15,
      "metadata": {
        "id": "2clTfCbJKlRO"
      },
      "outputs": [
        {
          "name": "stdout",
          "output_type": "stream",
          "text": [
            "INSERT INTO reference (title, journal, pubmed_id, locus_accession, ref_location) VALUES ('Milder loss of insulin-containing islets in individuals with type 1 diabetes and type 2 diabetes-associated TCF7L2 genetic variants', 'Diabetologia 66 (1), 127-131 (2023)', '36282337', 'NM_001198530', '[0:3781]')\n",
            "\n",
            "INSERT INTO reference (title, journal, pubmed_id, locus_accession, ref_location) VALUES ('TCF7L2 gene associated postprandial triglyceride dysmetabolism- a novel mechanism for diabetes risk among Asian Indians', 'Front Endocrinol (Lausanne) 13, 973718 (2022)', '36263318', 'NM_001198530', '[0:3781]')\n",
            "\n",
            "INSERT INTO reference (title, journal, pubmed_id, locus_accession, ref_location) VALUES ('The positive regulatory loop of TCF4N/p65 promotes glioblastoma tumourigenesis and chemosensitivity', 'Clin Transl Med 12 (9), e1042 (2022)', '36116131', 'NM_001198530', '[0:3781]')\n",
            "\n",
            "INSERT INTO reference (title, journal, pubmed_id, locus_accession, ref_location) VALUES ('Genotypes and Haplotypes in the AXIN2 and TCF7L2 Genes are Associated With Susceptibility and With Clinicopathological Characteristics in Breast Cancer Patients', 'Br J Biomed Sci 79, 10211 (2022)', '35996498', 'NM_001198530', '[0:3781]')\n",
            "\n",
            "INSERT INTO reference (title, journal, pubmed_id, locus_accession, ref_location) VALUES ('Dominant-negative isoforms of Tcf/Lef proteins in development and disease', 'Cell Cycle 10 (24), 4199-4200 (2011)', '22157225', 'NM_001198530', '[0:3781]')\n",
            "\n",
            "INSERT INTO reference (title, journal, pubmed_id, locus_accession, ref_location) VALUES ('A novel mechanism for the transcriptional regulation of Wnt signaling in development', 'Genes Dev 25 (17), 1783-1795 (2011)', '21856776', 'NM_001198530', '[0:3781]')\n",
            "\n",
            "INSERT INTO reference (title, journal, pubmed_id, locus_accession, ref_location) VALUES ('Identification of c-MYC as a target of the APC pathway', 'Science 281 (5382), 1509-1512 (1998)', '9727977', 'NM_001198530', '[0:3781]')\n",
            "\n",
            "INSERT INTO reference (title, journal, pubmed_id, locus_accession, ref_location) VALUES ('Activation of beta-catenin-Tcf signaling in colon cancer by mutations in beta-catenin or APC', 'Science 275 (5307), 1787-1790 (1997)', '9065402', 'NM_001198530', '[0:3781]')\n",
            "\n",
            "INSERT INTO reference (title, journal, pubmed_id, locus_accession, ref_location) VALUES ('Constitutive transcriptional activation by a beta-catenin-Tcf complex in APC-/- colon carcinoma', 'Science 275 (5307), 1784-1787 (1997)', '9065401', 'NM_001198530', '[0:3781]')\n",
            "\n",
            "INSERT INTO reference (title, journal, pubmed_id, locus_accession, ref_location) VALUES ('A gene family of HMG-box transcription factors with homology to TCF-1', 'Nucleic Acids Res 20 (3), 611 (1992)', '1741298', 'NM_001198530', '[0:3781]')\n",
            "\n"
          ]
        }
      ],
      "source": [
        "title = list()\n",
        "journal = list()\n",
        "pubmed_id = list()\n",
        "ref_location = list()\n",
        "\n",
        "try:\n",
        "    for reference in record.annotations['references']:\n",
        "        title.append(reference.title)\n",
        "        journal.append(reference.journal)\n",
        "        pubmed_id.append(reference.pubmed_id)\n",
        "        for loc in reference.location:\n",
        "            ref_location.append(loc)\n",
        "except KeyError:  # caso não existam referências nos ficheiros --> pass\n",
        "    pass\n",
        "    \n",
        "for i in zip(title, journal, pubmed_id, ref_location):\n",
        "    if i[2] == '' and i[3] == '':\n",
        "        sql_references = f'INSERT INTO reference (title, journal, locus_accession) VALUES (\"{i[0]}\", \"{i[1]}\", \"{locus_accession}\")'\n",
        "        print(sql_references)\n",
        "        print('Esta referência não possui ID do pubmed, nem descreve a sua localização')\n",
        "        print()\n",
        "        Cursor.execute(sql_references)\n",
        "        DataBase.commit()\n",
        "\n",
        "    elif i[2] == '' and i[3] != '':\n",
        "        sql_references = f'INSERT INTO reference (title, journal, locus_accession, ref_location) VALUES (\"{i[0]}\", \"{i[1]}\", \"{locus_accession}\", \"{i[3]}\")'\n",
        "        print(sql_references)\n",
        "        print('Esta referência não possui ID do pubmed')\n",
        "        print()\n",
        "        Cursor.execute(sql_references)\n",
        "        DataBase.commit()\n",
        "\n",
        "    elif i[2] != '' and i[3] == '':\n",
        "        sql_references = f'INSERT INTO reference (title, journal, pubmed_id, locus_accession) VALUES (\"{i[0]}\", \"{i[1]}\", \"{i[2]}\", \"{locus_accession}\")'\n",
        "        print(sql_references)\n",
        "        print('Esta referência não descreve a sua localização')\n",
        "        print()\n",
        "        Cursor.execute(sql_references)\n",
        "        DataBase.commit()\n",
        "        \n",
        "    else:\n",
        "        sql_references = f'INSERT INTO reference (title, journal, pubmed_id, locus_accession, ref_location) VALUES (\"{i[0]}\", \"{i[1]}\", \"{i[2]}\", \"{locus_accession}\", \"{i[3]}\")'\n",
        "        print(sql_references)\n",
        "        print()\n",
        "        Cursor.execute(sql_references)\n",
        "        DataBase.commit()\n",
        "        "
      ]
    },
    {
      "cell_type": "markdown",
      "metadata": {
        "id": "CS7vjtZBKlRO"
      },
      "source": [
        "### Tabela pubmed ###"
      ]
    },
    {
      "cell_type": "code",
      "execution_count": 16,
      "metadata": {
        "id": "tP_YYGQFKlRO"
      },
      "outputs": [
        {
          "name": "stdout",
          "output_type": "stream",
          "text": [
            "INSERT INTO pubmed (pubmed_id, title, date, source, issue, pages, doi) VALUES (36282337, 'Milder loss of insulin-containing islets in individuals with type 1 diabetes and type 2 diabetes-associated TCF7L2 genetic variants.', '2023 Jan', 'Diabetologia', '1', '127-131', '10.1007/s00125-022-05818-y')\n",
            "INSERT INTO pubmed (pubmed_id, title, date, source, issue, pages, doi) VALUES (36263318, 'TCF7L2 gene associated postprandial triglyceride dysmetabolism- a novel mechanism for diabetes risk among Asian Indians.', '2022', 'Front Endocrinol (Lausanne)', '', '973718', '10.3389/fendo.2022.973718')\n",
            "INSERT INTO pubmed (pubmed_id, title, date, source, issue, pages, doi) VALUES (36116131, 'The positive regulatory loop of TCF4N/p65 promotes glioblastoma tumourigenesis and chemosensitivity.', '2022 Sep', 'Clin Transl Med', '9', 'e1042', '10.1002/ctm2.1042')\n",
            "INSERT INTO pubmed (pubmed_id, title, date, source, issue, pages, doi) VALUES (35996498, 'Genotypes and Haplotypes in the AXIN2 and TCF7L2 Genes are Associated With Susceptibility and With Clinicopathological Characteristics in Breast Cancer Patients.', '2022', 'Br J Biomed Sci', '', '10211', '10.3389/bjbs.2021.10211')\n",
            "INSERT INTO pubmed (pubmed_id, title, date, source, issue, pages, doi) VALUES (22157225, 'Dominant-negative isoforms of Tcf/Lef proteins in development and disease.', '2011 Dec 15', 'Cell Cycle', '24', '4199-200', '10.4161/cc.10.24.18465')\n",
            "INSERT INTO pubmed (pubmed_id, title, date, source, issue, pages, doi) VALUES (21856776, 'A novel mechanism for the transcriptional regulation of Wnt signaling in development.', '2011 Sep 1', 'Genes Dev', '17', '1783-95', '10.1101/gad.17227011')\n",
            "INSERT INTO pubmed (pubmed_id, title, date, source, issue, pages, doi) VALUES (9727977, 'Identification of c-MYC as a target of the APC pathway.', '1998 Sep 4', 'Science', '5382', '1509-12', '10.1126/science.281.5382.1509')\n",
            "INSERT INTO pubmed (pubmed_id, title, date, source, issue, pages, doi) VALUES (9065402, 'Activation of beta-catenin-Tcf signaling in colon cancer by mutations in beta-catenin or APC.', '1997 Mar 21', 'Science', '5307', '1787-90', '10.1126/science.275.5307.1787')\n",
            "INSERT INTO pubmed (pubmed_id, title, date, source, issue, pages, doi) VALUES (9065401, 'Constitutive transcriptional activation by a beta-catenin-Tcf complex in APC-/- colon carcinoma.', '1997 Mar 21', 'Science', '5307', '1784-7', '10.1126/science.275.5307.1784')\n",
            "INSERT INTO pubmed (pubmed_id, title, date, source, issue, pages, doi) VALUES (1741298, 'A gene family of HMG-box transcription factors with homology to TCF-1.', '1992 Feb 11', 'Nucleic Acids Res', '3', '611', '10.1093/nar/20.3.611')\n"
          ]
        }
      ],
      "source": [
        "for id in pubmed_id:\n",
        "    if id != '':\n",
        "        pubmed_handle = Entrez.esummary(db=\"pubmed\", id=id, retmode=\"xml\")\n",
        "        pubmed_record = Entrez.read(pubmed_handle)\n",
        "        pubmed_handle.close()\n",
        "        for info in pubmed_record:\n",
        "            title_pubmed = list()\n",
        "            pub_date = list()\n",
        "            pub_source = list()\n",
        "            pub_issue = list()\n",
        "            pub_pages = list()\n",
        "            \n",
        "\n",
        "            title_pubmed.append(info['Title'])\n",
        "            pub_date.append(info['PubDate'])\n",
        "            pub_source.append(info['Source'])\n",
        "            pub_issue.append(info['Issue'])\n",
        "            pub_pages.append(info['Pages'])\n",
        "            \n",
        "        for i in zip(title_pubmed, pub_date, pub_source, pub_issue, pub_pages):\n",
        "            sql_pubmed = f'INSERT INTO pubmed (pubmed_id, title, date, source, issue, pages) VALUES ({id}, \"{i[0]}\", \"{i[1]}\", \"{i[2]}\", \"{i[3]}\", \"{i[4]}\")'\n",
        "            print(sql_pubmed)    \n",
        "            Cursor.execute(sql_pubmed)\n",
        "            DataBase.commit()\n",
        "            \n",
        "    else:\n",
        "        print('Sem resultados')"
      ]
    },
    {
      "cell_type": "markdown",
      "metadata": {
        "id": "LiBxXbHnKlRO"
      },
      "source": [
        "### Tabela authors ###"
      ]
    },
    {
      "cell_type": "code",
      "execution_count": 17,
      "metadata": {
        "id": "-QyX8lY8KlRO"
      },
      "outputs": [
        {
          "name": "stdout",
          "output_type": "stream",
          "text": [
            "INSERT INTO authors (author_name, pubmed_id) VALUES ('Redondo MJ', 36282337)\n",
            "INSERT INTO authors (author_name, pubmed_id) VALUES ('Richardson SJ', 36282337)\n",
            "INSERT INTO authors (author_name, pubmed_id) VALUES ('Perry D', 36282337)\n",
            "INSERT INTO authors (author_name, pubmed_id) VALUES ('Minard CG', 36282337)\n",
            "INSERT INTO authors (author_name, pubmed_id) VALUES ('Carr ALJ', 36282337)\n",
            "INSERT INTO authors (author_name, pubmed_id) VALUES ('Brusko T', 36282337)\n",
            "INSERT INTO authors (author_name, pubmed_id) VALUES ('Kusmartseva I', 36282337)\n",
            "INSERT INTO authors (author_name, pubmed_id) VALUES ('Pugliese A', 36282337)\n",
            "INSERT INTO authors (author_name, pubmed_id) VALUES ('Atkinson MA', 36282337)\n",
            "INSERT INTO authors (author_name, pubmed_id) VALUES ('Redondo MJ', 36282337)\n",
            "INSERT INTO authors (author_name, pubmed_id) VALUES ('Richardson SJ', 36282337)\n",
            "INSERT INTO authors (author_name, pubmed_id) VALUES ('Perry D', 36282337)\n",
            "INSERT INTO authors (author_name, pubmed_id) VALUES ('Minard CG', 36282337)\n",
            "INSERT INTO authors (author_name, pubmed_id) VALUES ('Carr ALJ', 36282337)\n",
            "INSERT INTO authors (author_name, pubmed_id) VALUES ('Brusko T', 36282337)\n",
            "INSERT INTO authors (author_name, pubmed_id) VALUES ('Kusmartseva I', 36282337)\n",
            "INSERT INTO authors (author_name, pubmed_id) VALUES ('Pugliese A', 36282337)\n",
            "INSERT INTO authors (author_name, pubmed_id) VALUES ('Atkinson MA', 36282337)\n",
            "INSERT INTO authors (author_name, pubmed_id) VALUES ('Madhu SV', 36263318)\n",
            "INSERT INTO authors (author_name, pubmed_id) VALUES ('Mishra BK', 36263318)\n",
            "INSERT INTO authors (author_name, pubmed_id) VALUES ('Mannar V', 36263318)\n",
            "INSERT INTO authors (author_name, pubmed_id) VALUES ('Aslam M', 36263318)\n",
            "INSERT INTO authors (author_name, pubmed_id) VALUES ('Banerjee B', 36263318)\n",
            "INSERT INTO authors (author_name, pubmed_id) VALUES ('Agrawal V', 36263318)\n",
            "INSERT INTO authors (author_name, pubmed_id) VALUES ('Redondo MJ', 36282337)\n",
            "INSERT INTO authors (author_name, pubmed_id) VALUES ('Richardson SJ', 36282337)\n",
            "INSERT INTO authors (author_name, pubmed_id) VALUES ('Perry D', 36282337)\n",
            "INSERT INTO authors (author_name, pubmed_id) VALUES ('Minard CG', 36282337)\n",
            "INSERT INTO authors (author_name, pubmed_id) VALUES ('Carr ALJ', 36282337)\n",
            "INSERT INTO authors (author_name, pubmed_id) VALUES ('Brusko T', 36282337)\n",
            "INSERT INTO authors (author_name, pubmed_id) VALUES ('Kusmartseva I', 36282337)\n",
            "INSERT INTO authors (author_name, pubmed_id) VALUES ('Pugliese A', 36282337)\n",
            "INSERT INTO authors (author_name, pubmed_id) VALUES ('Atkinson MA', 36282337)\n",
            "INSERT INTO authors (author_name, pubmed_id) VALUES ('Madhu SV', 36263318)\n",
            "INSERT INTO authors (author_name, pubmed_id) VALUES ('Mishra BK', 36263318)\n",
            "INSERT INTO authors (author_name, pubmed_id) VALUES ('Mannar V', 36263318)\n",
            "INSERT INTO authors (author_name, pubmed_id) VALUES ('Aslam M', 36263318)\n",
            "INSERT INTO authors (author_name, pubmed_id) VALUES ('Banerjee B', 36263318)\n",
            "INSERT INTO authors (author_name, pubmed_id) VALUES ('Agrawal V', 36263318)\n",
            "INSERT INTO authors (author_name, pubmed_id) VALUES ('Hu Y', 36116131)\n",
            "INSERT INTO authors (author_name, pubmed_id) VALUES ('Zhang B', 36116131)\n",
            "INSERT INTO authors (author_name, pubmed_id) VALUES ('Lu P', 36116131)\n",
            "INSERT INTO authors (author_name, pubmed_id) VALUES ('Wang J', 36116131)\n",
            "INSERT INTO authors (author_name, pubmed_id) VALUES ('Chen C', 36116131)\n",
            "INSERT INTO authors (author_name, pubmed_id) VALUES ('Yin Y', 36116131)\n",
            "INSERT INTO authors (author_name, pubmed_id) VALUES ('Wan Q', 36116131)\n",
            "INSERT INTO authors (author_name, pubmed_id) VALUES ('Wang J', 36116131)\n",
            "INSERT INTO authors (author_name, pubmed_id) VALUES ('Jiao J', 36116131)\n",
            "INSERT INTO authors (author_name, pubmed_id) VALUES ('Fang X', 36116131)\n",
            "INSERT INTO authors (author_name, pubmed_id) VALUES ('Pu Z', 36116131)\n",
            "INSERT INTO authors (author_name, pubmed_id) VALUES ('Gong L', 36116131)\n",
            "INSERT INTO authors (author_name, pubmed_id) VALUES ('Ji L', 36116131)\n",
            "INSERT INTO authors (author_name, pubmed_id) VALUES ('Zhu L', 36116131)\n",
            "INSERT INTO authors (author_name, pubmed_id) VALUES ('Zhang R', 36116131)\n",
            "INSERT INTO authors (author_name, pubmed_id) VALUES ('Zhang J', 36116131)\n",
            "INSERT INTO authors (author_name, pubmed_id) VALUES ('Yang X', 36116131)\n",
            "INSERT INTO authors (author_name, pubmed_id) VALUES ('Wang Q', 36116131)\n",
            "INSERT INTO authors (author_name, pubmed_id) VALUES ('Huang Z', 36116131)\n",
            "INSERT INTO authors (author_name, pubmed_id) VALUES ('Zou J', 36116131)\n",
            "INSERT INTO authors (author_name, pubmed_id) VALUES ('Redondo MJ', 36282337)\n",
            "INSERT INTO authors (author_name, pubmed_id) VALUES ('Richardson SJ', 36282337)\n",
            "INSERT INTO authors (author_name, pubmed_id) VALUES ('Perry D', 36282337)\n",
            "INSERT INTO authors (author_name, pubmed_id) VALUES ('Minard CG', 36282337)\n",
            "INSERT INTO authors (author_name, pubmed_id) VALUES ('Carr ALJ', 36282337)\n",
            "INSERT INTO authors (author_name, pubmed_id) VALUES ('Brusko T', 36282337)\n",
            "INSERT INTO authors (author_name, pubmed_id) VALUES ('Kusmartseva I', 36282337)\n",
            "INSERT INTO authors (author_name, pubmed_id) VALUES ('Pugliese A', 36282337)\n",
            "INSERT INTO authors (author_name, pubmed_id) VALUES ('Atkinson MA', 36282337)\n",
            "INSERT INTO authors (author_name, pubmed_id) VALUES ('Madhu SV', 36263318)\n",
            "INSERT INTO authors (author_name, pubmed_id) VALUES ('Mishra BK', 36263318)\n",
            "INSERT INTO authors (author_name, pubmed_id) VALUES ('Mannar V', 36263318)\n",
            "INSERT INTO authors (author_name, pubmed_id) VALUES ('Aslam M', 36263318)\n",
            "INSERT INTO authors (author_name, pubmed_id) VALUES ('Banerjee B', 36263318)\n",
            "INSERT INTO authors (author_name, pubmed_id) VALUES ('Agrawal V', 36263318)\n",
            "INSERT INTO authors (author_name, pubmed_id) VALUES ('Hu Y', 36116131)\n",
            "INSERT INTO authors (author_name, pubmed_id) VALUES ('Zhang B', 36116131)\n",
            "INSERT INTO authors (author_name, pubmed_id) VALUES ('Lu P', 36116131)\n",
            "INSERT INTO authors (author_name, pubmed_id) VALUES ('Wang J', 36116131)\n",
            "INSERT INTO authors (author_name, pubmed_id) VALUES ('Chen C', 36116131)\n",
            "INSERT INTO authors (author_name, pubmed_id) VALUES ('Yin Y', 36116131)\n",
            "INSERT INTO authors (author_name, pubmed_id) VALUES ('Wan Q', 36116131)\n",
            "INSERT INTO authors (author_name, pubmed_id) VALUES ('Wang J', 36116131)\n",
            "INSERT INTO authors (author_name, pubmed_id) VALUES ('Jiao J', 36116131)\n",
            "INSERT INTO authors (author_name, pubmed_id) VALUES ('Fang X', 36116131)\n",
            "INSERT INTO authors (author_name, pubmed_id) VALUES ('Pu Z', 36116131)\n",
            "INSERT INTO authors (author_name, pubmed_id) VALUES ('Gong L', 36116131)\n",
            "INSERT INTO authors (author_name, pubmed_id) VALUES ('Ji L', 36116131)\n",
            "INSERT INTO authors (author_name, pubmed_id) VALUES ('Zhu L', 36116131)\n",
            "INSERT INTO authors (author_name, pubmed_id) VALUES ('Zhang R', 36116131)\n",
            "INSERT INTO authors (author_name, pubmed_id) VALUES ('Zhang J', 36116131)\n",
            "INSERT INTO authors (author_name, pubmed_id) VALUES ('Yang X', 36116131)\n",
            "INSERT INTO authors (author_name, pubmed_id) VALUES ('Wang Q', 36116131)\n",
            "INSERT INTO authors (author_name, pubmed_id) VALUES ('Huang Z', 36116131)\n",
            "INSERT INTO authors (author_name, pubmed_id) VALUES ('Zou J', 36116131)\n",
            "INSERT INTO authors (author_name, pubmed_id) VALUES ('Rosales-Reynoso MA', 35996498)\n",
            "INSERT INTO authors (author_name, pubmed_id) VALUES ('Rosas-Enríquez V', 35996498)\n",
            "INSERT INTO authors (author_name, pubmed_id) VALUES ('Saucedo-Sariñana AM', 35996498)\n",
            "INSERT INTO authors (author_name, pubmed_id) VALUES ('Pérez-Coria M', 35996498)\n",
            "INSERT INTO authors (author_name, pubmed_id) VALUES ('Gallegos-Arreola MP', 35996498)\n",
            "INSERT INTO authors (author_name, pubmed_id) VALUES ('Salas-González E', 35996498)\n",
            "INSERT INTO authors (author_name, pubmed_id) VALUES ('Barros-Núñez P', 35996498)\n",
            "INSERT INTO authors (author_name, pubmed_id) VALUES ('Juárez-Vázquez CI', 35996498)\n",
            "INSERT INTO authors (author_name, pubmed_id) VALUES ('Flores-Martínez SE', 35996498)\n",
            "INSERT INTO authors (author_name, pubmed_id) VALUES ('Sánchez-Corona J', 35996498)\n",
            "INSERT INTO authors (author_name, pubmed_id) VALUES ('Redondo MJ', 36282337)\n",
            "INSERT INTO authors (author_name, pubmed_id) VALUES ('Richardson SJ', 36282337)\n",
            "INSERT INTO authors (author_name, pubmed_id) VALUES ('Perry D', 36282337)\n",
            "INSERT INTO authors (author_name, pubmed_id) VALUES ('Minard CG', 36282337)\n",
            "INSERT INTO authors (author_name, pubmed_id) VALUES ('Carr ALJ', 36282337)\n",
            "INSERT INTO authors (author_name, pubmed_id) VALUES ('Brusko T', 36282337)\n",
            "INSERT INTO authors (author_name, pubmed_id) VALUES ('Kusmartseva I', 36282337)\n",
            "INSERT INTO authors (author_name, pubmed_id) VALUES ('Pugliese A', 36282337)\n",
            "INSERT INTO authors (author_name, pubmed_id) VALUES ('Atkinson MA', 36282337)\n",
            "INSERT INTO authors (author_name, pubmed_id) VALUES ('Madhu SV', 36263318)\n",
            "INSERT INTO authors (author_name, pubmed_id) VALUES ('Mishra BK', 36263318)\n",
            "INSERT INTO authors (author_name, pubmed_id) VALUES ('Mannar V', 36263318)\n",
            "INSERT INTO authors (author_name, pubmed_id) VALUES ('Aslam M', 36263318)\n",
            "INSERT INTO authors (author_name, pubmed_id) VALUES ('Banerjee B', 36263318)\n",
            "INSERT INTO authors (author_name, pubmed_id) VALUES ('Agrawal V', 36263318)\n",
            "INSERT INTO authors (author_name, pubmed_id) VALUES ('Hu Y', 36116131)\n",
            "INSERT INTO authors (author_name, pubmed_id) VALUES ('Zhang B', 36116131)\n",
            "INSERT INTO authors (author_name, pubmed_id) VALUES ('Lu P', 36116131)\n",
            "INSERT INTO authors (author_name, pubmed_id) VALUES ('Wang J', 36116131)\n",
            "INSERT INTO authors (author_name, pubmed_id) VALUES ('Chen C', 36116131)\n",
            "INSERT INTO authors (author_name, pubmed_id) VALUES ('Yin Y', 36116131)\n",
            "INSERT INTO authors (author_name, pubmed_id) VALUES ('Wan Q', 36116131)\n",
            "INSERT INTO authors (author_name, pubmed_id) VALUES ('Wang J', 36116131)\n",
            "INSERT INTO authors (author_name, pubmed_id) VALUES ('Jiao J', 36116131)\n",
            "INSERT INTO authors (author_name, pubmed_id) VALUES ('Fang X', 36116131)\n",
            "INSERT INTO authors (author_name, pubmed_id) VALUES ('Pu Z', 36116131)\n",
            "INSERT INTO authors (author_name, pubmed_id) VALUES ('Gong L', 36116131)\n",
            "INSERT INTO authors (author_name, pubmed_id) VALUES ('Ji L', 36116131)\n",
            "INSERT INTO authors (author_name, pubmed_id) VALUES ('Zhu L', 36116131)\n",
            "INSERT INTO authors (author_name, pubmed_id) VALUES ('Zhang R', 36116131)\n",
            "INSERT INTO authors (author_name, pubmed_id) VALUES ('Zhang J', 36116131)\n",
            "INSERT INTO authors (author_name, pubmed_id) VALUES ('Yang X', 36116131)\n",
            "INSERT INTO authors (author_name, pubmed_id) VALUES ('Wang Q', 36116131)\n",
            "INSERT INTO authors (author_name, pubmed_id) VALUES ('Huang Z', 36116131)\n",
            "INSERT INTO authors (author_name, pubmed_id) VALUES ('Zou J', 36116131)\n",
            "INSERT INTO authors (author_name, pubmed_id) VALUES ('Rosales-Reynoso MA', 35996498)\n",
            "INSERT INTO authors (author_name, pubmed_id) VALUES ('Rosas-Enríquez V', 35996498)\n",
            "INSERT INTO authors (author_name, pubmed_id) VALUES ('Saucedo-Sariñana AM', 35996498)\n",
            "INSERT INTO authors (author_name, pubmed_id) VALUES ('Pérez-Coria M', 35996498)\n",
            "INSERT INTO authors (author_name, pubmed_id) VALUES ('Gallegos-Arreola MP', 35996498)\n",
            "INSERT INTO authors (author_name, pubmed_id) VALUES ('Salas-González E', 35996498)\n",
            "INSERT INTO authors (author_name, pubmed_id) VALUES ('Barros-Núñez P', 35996498)\n",
            "INSERT INTO authors (author_name, pubmed_id) VALUES ('Juárez-Vázquez CI', 35996498)\n",
            "INSERT INTO authors (author_name, pubmed_id) VALUES ('Flores-Martínez SE', 35996498)\n",
            "INSERT INTO authors (author_name, pubmed_id) VALUES ('Sánchez-Corona J', 35996498)\n",
            "INSERT INTO authors (author_name, pubmed_id) VALUES ('Vacik T', 22157225)\n",
            "INSERT INTO authors (author_name, pubmed_id) VALUES ('Lemke G', 22157225)\n",
            "INSERT INTO authors (author_name, pubmed_id) VALUES ('Redondo MJ', 36282337)\n",
            "INSERT INTO authors (author_name, pubmed_id) VALUES ('Richardson SJ', 36282337)\n",
            "INSERT INTO authors (author_name, pubmed_id) VALUES ('Perry D', 36282337)\n",
            "INSERT INTO authors (author_name, pubmed_id) VALUES ('Minard CG', 36282337)\n",
            "INSERT INTO authors (author_name, pubmed_id) VALUES ('Carr ALJ', 36282337)\n",
            "INSERT INTO authors (author_name, pubmed_id) VALUES ('Brusko T', 36282337)\n",
            "INSERT INTO authors (author_name, pubmed_id) VALUES ('Kusmartseva I', 36282337)\n",
            "INSERT INTO authors (author_name, pubmed_id) VALUES ('Pugliese A', 36282337)\n",
            "INSERT INTO authors (author_name, pubmed_id) VALUES ('Atkinson MA', 36282337)\n",
            "INSERT INTO authors (author_name, pubmed_id) VALUES ('Madhu SV', 36263318)\n",
            "INSERT INTO authors (author_name, pubmed_id) VALUES ('Mishra BK', 36263318)\n",
            "INSERT INTO authors (author_name, pubmed_id) VALUES ('Mannar V', 36263318)\n",
            "INSERT INTO authors (author_name, pubmed_id) VALUES ('Aslam M', 36263318)\n",
            "INSERT INTO authors (author_name, pubmed_id) VALUES ('Banerjee B', 36263318)\n",
            "INSERT INTO authors (author_name, pubmed_id) VALUES ('Agrawal V', 36263318)\n",
            "INSERT INTO authors (author_name, pubmed_id) VALUES ('Hu Y', 36116131)\n",
            "INSERT INTO authors (author_name, pubmed_id) VALUES ('Zhang B', 36116131)\n",
            "INSERT INTO authors (author_name, pubmed_id) VALUES ('Lu P', 36116131)\n",
            "INSERT INTO authors (author_name, pubmed_id) VALUES ('Wang J', 36116131)\n",
            "INSERT INTO authors (author_name, pubmed_id) VALUES ('Chen C', 36116131)\n",
            "INSERT INTO authors (author_name, pubmed_id) VALUES ('Yin Y', 36116131)\n",
            "INSERT INTO authors (author_name, pubmed_id) VALUES ('Wan Q', 36116131)\n",
            "INSERT INTO authors (author_name, pubmed_id) VALUES ('Wang J', 36116131)\n",
            "INSERT INTO authors (author_name, pubmed_id) VALUES ('Jiao J', 36116131)\n",
            "INSERT INTO authors (author_name, pubmed_id) VALUES ('Fang X', 36116131)\n",
            "INSERT INTO authors (author_name, pubmed_id) VALUES ('Pu Z', 36116131)\n",
            "INSERT INTO authors (author_name, pubmed_id) VALUES ('Gong L', 36116131)\n",
            "INSERT INTO authors (author_name, pubmed_id) VALUES ('Ji L', 36116131)\n",
            "INSERT INTO authors (author_name, pubmed_id) VALUES ('Zhu L', 36116131)\n",
            "INSERT INTO authors (author_name, pubmed_id) VALUES ('Zhang R', 36116131)\n",
            "INSERT INTO authors (author_name, pubmed_id) VALUES ('Zhang J', 36116131)\n",
            "INSERT INTO authors (author_name, pubmed_id) VALUES ('Yang X', 36116131)\n",
            "INSERT INTO authors (author_name, pubmed_id) VALUES ('Wang Q', 36116131)\n",
            "INSERT INTO authors (author_name, pubmed_id) VALUES ('Huang Z', 36116131)\n",
            "INSERT INTO authors (author_name, pubmed_id) VALUES ('Zou J', 36116131)\n",
            "INSERT INTO authors (author_name, pubmed_id) VALUES ('Rosales-Reynoso MA', 35996498)\n",
            "INSERT INTO authors (author_name, pubmed_id) VALUES ('Rosas-Enríquez V', 35996498)\n",
            "INSERT INTO authors (author_name, pubmed_id) VALUES ('Saucedo-Sariñana AM', 35996498)\n",
            "INSERT INTO authors (author_name, pubmed_id) VALUES ('Pérez-Coria M', 35996498)\n",
            "INSERT INTO authors (author_name, pubmed_id) VALUES ('Gallegos-Arreola MP', 35996498)\n",
            "INSERT INTO authors (author_name, pubmed_id) VALUES ('Salas-González E', 35996498)\n",
            "INSERT INTO authors (author_name, pubmed_id) VALUES ('Barros-Núñez P', 35996498)\n",
            "INSERT INTO authors (author_name, pubmed_id) VALUES ('Juárez-Vázquez CI', 35996498)\n",
            "INSERT INTO authors (author_name, pubmed_id) VALUES ('Flores-Martínez SE', 35996498)\n",
            "INSERT INTO authors (author_name, pubmed_id) VALUES ('Sánchez-Corona J', 35996498)\n",
            "INSERT INTO authors (author_name, pubmed_id) VALUES ('Vacik T', 22157225)\n",
            "INSERT INTO authors (author_name, pubmed_id) VALUES ('Lemke G', 22157225)\n",
            "INSERT INTO authors (author_name, pubmed_id) VALUES ('Vacik T', 21856776)\n",
            "INSERT INTO authors (author_name, pubmed_id) VALUES ('Stubbs JL', 21856776)\n",
            "INSERT INTO authors (author_name, pubmed_id) VALUES ('Lemke G', 21856776)\n",
            "INSERT INTO authors (author_name, pubmed_id) VALUES ('Redondo MJ', 36282337)\n",
            "INSERT INTO authors (author_name, pubmed_id) VALUES ('Richardson SJ', 36282337)\n",
            "INSERT INTO authors (author_name, pubmed_id) VALUES ('Perry D', 36282337)\n",
            "INSERT INTO authors (author_name, pubmed_id) VALUES ('Minard CG', 36282337)\n",
            "INSERT INTO authors (author_name, pubmed_id) VALUES ('Carr ALJ', 36282337)\n",
            "INSERT INTO authors (author_name, pubmed_id) VALUES ('Brusko T', 36282337)\n",
            "INSERT INTO authors (author_name, pubmed_id) VALUES ('Kusmartseva I', 36282337)\n",
            "INSERT INTO authors (author_name, pubmed_id) VALUES ('Pugliese A', 36282337)\n",
            "INSERT INTO authors (author_name, pubmed_id) VALUES ('Atkinson MA', 36282337)\n",
            "INSERT INTO authors (author_name, pubmed_id) VALUES ('Madhu SV', 36263318)\n",
            "INSERT INTO authors (author_name, pubmed_id) VALUES ('Mishra BK', 36263318)\n",
            "INSERT INTO authors (author_name, pubmed_id) VALUES ('Mannar V', 36263318)\n",
            "INSERT INTO authors (author_name, pubmed_id) VALUES ('Aslam M', 36263318)\n",
            "INSERT INTO authors (author_name, pubmed_id) VALUES ('Banerjee B', 36263318)\n",
            "INSERT INTO authors (author_name, pubmed_id) VALUES ('Agrawal V', 36263318)\n",
            "INSERT INTO authors (author_name, pubmed_id) VALUES ('Hu Y', 36116131)\n",
            "INSERT INTO authors (author_name, pubmed_id) VALUES ('Zhang B', 36116131)\n",
            "INSERT INTO authors (author_name, pubmed_id) VALUES ('Lu P', 36116131)\n",
            "INSERT INTO authors (author_name, pubmed_id) VALUES ('Wang J', 36116131)\n",
            "INSERT INTO authors (author_name, pubmed_id) VALUES ('Chen C', 36116131)\n",
            "INSERT INTO authors (author_name, pubmed_id) VALUES ('Yin Y', 36116131)\n",
            "INSERT INTO authors (author_name, pubmed_id) VALUES ('Wan Q', 36116131)\n",
            "INSERT INTO authors (author_name, pubmed_id) VALUES ('Wang J', 36116131)\n",
            "INSERT INTO authors (author_name, pubmed_id) VALUES ('Jiao J', 36116131)\n",
            "INSERT INTO authors (author_name, pubmed_id) VALUES ('Fang X', 36116131)\n",
            "INSERT INTO authors (author_name, pubmed_id) VALUES ('Pu Z', 36116131)\n",
            "INSERT INTO authors (author_name, pubmed_id) VALUES ('Gong L', 36116131)\n",
            "INSERT INTO authors (author_name, pubmed_id) VALUES ('Ji L', 36116131)\n",
            "INSERT INTO authors (author_name, pubmed_id) VALUES ('Zhu L', 36116131)\n",
            "INSERT INTO authors (author_name, pubmed_id) VALUES ('Zhang R', 36116131)\n",
            "INSERT INTO authors (author_name, pubmed_id) VALUES ('Zhang J', 36116131)\n",
            "INSERT INTO authors (author_name, pubmed_id) VALUES ('Yang X', 36116131)\n",
            "INSERT INTO authors (author_name, pubmed_id) VALUES ('Wang Q', 36116131)\n",
            "INSERT INTO authors (author_name, pubmed_id) VALUES ('Huang Z', 36116131)\n",
            "INSERT INTO authors (author_name, pubmed_id) VALUES ('Zou J', 36116131)\n",
            "INSERT INTO authors (author_name, pubmed_id) VALUES ('Rosales-Reynoso MA', 35996498)\n",
            "INSERT INTO authors (author_name, pubmed_id) VALUES ('Rosas-Enríquez V', 35996498)\n",
            "INSERT INTO authors (author_name, pubmed_id) VALUES ('Saucedo-Sariñana AM', 35996498)\n",
            "INSERT INTO authors (author_name, pubmed_id) VALUES ('Pérez-Coria M', 35996498)\n",
            "INSERT INTO authors (author_name, pubmed_id) VALUES ('Gallegos-Arreola MP', 35996498)\n",
            "INSERT INTO authors (author_name, pubmed_id) VALUES ('Salas-González E', 35996498)\n",
            "INSERT INTO authors (author_name, pubmed_id) VALUES ('Barros-Núñez P', 35996498)\n",
            "INSERT INTO authors (author_name, pubmed_id) VALUES ('Juárez-Vázquez CI', 35996498)\n",
            "INSERT INTO authors (author_name, pubmed_id) VALUES ('Flores-Martínez SE', 35996498)\n",
            "INSERT INTO authors (author_name, pubmed_id) VALUES ('Sánchez-Corona J', 35996498)\n",
            "INSERT INTO authors (author_name, pubmed_id) VALUES ('Vacik T', 22157225)\n",
            "INSERT INTO authors (author_name, pubmed_id) VALUES ('Lemke G', 22157225)\n",
            "INSERT INTO authors (author_name, pubmed_id) VALUES ('Vacik T', 21856776)\n",
            "INSERT INTO authors (author_name, pubmed_id) VALUES ('Stubbs JL', 21856776)\n",
            "INSERT INTO authors (author_name, pubmed_id) VALUES ('Lemke G', 21856776)\n",
            "INSERT INTO authors (author_name, pubmed_id) VALUES ('He TC', 9727977)\n",
            "INSERT INTO authors (author_name, pubmed_id) VALUES ('Sparks AB', 9727977)\n",
            "INSERT INTO authors (author_name, pubmed_id) VALUES ('Rago C', 9727977)\n",
            "INSERT INTO authors (author_name, pubmed_id) VALUES ('Hermeking H', 9727977)\n",
            "INSERT INTO authors (author_name, pubmed_id) VALUES ('Zawel L', 9727977)\n",
            "INSERT INTO authors (author_name, pubmed_id) VALUES ('da Costa LT', 9727977)\n",
            "INSERT INTO authors (author_name, pubmed_id) VALUES ('Morin PJ', 9727977)\n",
            "INSERT INTO authors (author_name, pubmed_id) VALUES ('Vogelstein B', 9727977)\n",
            "INSERT INTO authors (author_name, pubmed_id) VALUES ('Kinzler KW', 9727977)\n",
            "INSERT INTO authors (author_name, pubmed_id) VALUES ('Redondo MJ', 36282337)\n",
            "INSERT INTO authors (author_name, pubmed_id) VALUES ('Richardson SJ', 36282337)\n",
            "INSERT INTO authors (author_name, pubmed_id) VALUES ('Perry D', 36282337)\n",
            "INSERT INTO authors (author_name, pubmed_id) VALUES ('Minard CG', 36282337)\n",
            "INSERT INTO authors (author_name, pubmed_id) VALUES ('Carr ALJ', 36282337)\n",
            "INSERT INTO authors (author_name, pubmed_id) VALUES ('Brusko T', 36282337)\n",
            "INSERT INTO authors (author_name, pubmed_id) VALUES ('Kusmartseva I', 36282337)\n",
            "INSERT INTO authors (author_name, pubmed_id) VALUES ('Pugliese A', 36282337)\n",
            "INSERT INTO authors (author_name, pubmed_id) VALUES ('Atkinson MA', 36282337)\n",
            "INSERT INTO authors (author_name, pubmed_id) VALUES ('Madhu SV', 36263318)\n",
            "INSERT INTO authors (author_name, pubmed_id) VALUES ('Mishra BK', 36263318)\n",
            "INSERT INTO authors (author_name, pubmed_id) VALUES ('Mannar V', 36263318)\n",
            "INSERT INTO authors (author_name, pubmed_id) VALUES ('Aslam M', 36263318)\n",
            "INSERT INTO authors (author_name, pubmed_id) VALUES ('Banerjee B', 36263318)\n",
            "INSERT INTO authors (author_name, pubmed_id) VALUES ('Agrawal V', 36263318)\n",
            "INSERT INTO authors (author_name, pubmed_id) VALUES ('Hu Y', 36116131)\n",
            "INSERT INTO authors (author_name, pubmed_id) VALUES ('Zhang B', 36116131)\n",
            "INSERT INTO authors (author_name, pubmed_id) VALUES ('Lu P', 36116131)\n",
            "INSERT INTO authors (author_name, pubmed_id) VALUES ('Wang J', 36116131)\n",
            "INSERT INTO authors (author_name, pubmed_id) VALUES ('Chen C', 36116131)\n",
            "INSERT INTO authors (author_name, pubmed_id) VALUES ('Yin Y', 36116131)\n",
            "INSERT INTO authors (author_name, pubmed_id) VALUES ('Wan Q', 36116131)\n",
            "INSERT INTO authors (author_name, pubmed_id) VALUES ('Wang J', 36116131)\n",
            "INSERT INTO authors (author_name, pubmed_id) VALUES ('Jiao J', 36116131)\n",
            "INSERT INTO authors (author_name, pubmed_id) VALUES ('Fang X', 36116131)\n",
            "INSERT INTO authors (author_name, pubmed_id) VALUES ('Pu Z', 36116131)\n",
            "INSERT INTO authors (author_name, pubmed_id) VALUES ('Gong L', 36116131)\n",
            "INSERT INTO authors (author_name, pubmed_id) VALUES ('Ji L', 36116131)\n",
            "INSERT INTO authors (author_name, pubmed_id) VALUES ('Zhu L', 36116131)\n",
            "INSERT INTO authors (author_name, pubmed_id) VALUES ('Zhang R', 36116131)\n",
            "INSERT INTO authors (author_name, pubmed_id) VALUES ('Zhang J', 36116131)\n",
            "INSERT INTO authors (author_name, pubmed_id) VALUES ('Yang X', 36116131)\n",
            "INSERT INTO authors (author_name, pubmed_id) VALUES ('Wang Q', 36116131)\n",
            "INSERT INTO authors (author_name, pubmed_id) VALUES ('Huang Z', 36116131)\n",
            "INSERT INTO authors (author_name, pubmed_id) VALUES ('Zou J', 36116131)\n",
            "INSERT INTO authors (author_name, pubmed_id) VALUES ('Rosales-Reynoso MA', 35996498)\n",
            "INSERT INTO authors (author_name, pubmed_id) VALUES ('Rosas-Enríquez V', 35996498)\n",
            "INSERT INTO authors (author_name, pubmed_id) VALUES ('Saucedo-Sariñana AM', 35996498)\n",
            "INSERT INTO authors (author_name, pubmed_id) VALUES ('Pérez-Coria M', 35996498)\n",
            "INSERT INTO authors (author_name, pubmed_id) VALUES ('Gallegos-Arreola MP', 35996498)\n",
            "INSERT INTO authors (author_name, pubmed_id) VALUES ('Salas-González E', 35996498)\n",
            "INSERT INTO authors (author_name, pubmed_id) VALUES ('Barros-Núñez P', 35996498)\n",
            "INSERT INTO authors (author_name, pubmed_id) VALUES ('Juárez-Vázquez CI', 35996498)\n",
            "INSERT INTO authors (author_name, pubmed_id) VALUES ('Flores-Martínez SE', 35996498)\n",
            "INSERT INTO authors (author_name, pubmed_id) VALUES ('Sánchez-Corona J', 35996498)\n",
            "INSERT INTO authors (author_name, pubmed_id) VALUES ('Vacik T', 22157225)\n",
            "INSERT INTO authors (author_name, pubmed_id) VALUES ('Lemke G', 22157225)\n",
            "INSERT INTO authors (author_name, pubmed_id) VALUES ('Vacik T', 21856776)\n",
            "INSERT INTO authors (author_name, pubmed_id) VALUES ('Stubbs JL', 21856776)\n",
            "INSERT INTO authors (author_name, pubmed_id) VALUES ('Lemke G', 21856776)\n",
            "INSERT INTO authors (author_name, pubmed_id) VALUES ('He TC', 9727977)\n",
            "INSERT INTO authors (author_name, pubmed_id) VALUES ('Sparks AB', 9727977)\n",
            "INSERT INTO authors (author_name, pubmed_id) VALUES ('Rago C', 9727977)\n",
            "INSERT INTO authors (author_name, pubmed_id) VALUES ('Hermeking H', 9727977)\n",
            "INSERT INTO authors (author_name, pubmed_id) VALUES ('Zawel L', 9727977)\n",
            "INSERT INTO authors (author_name, pubmed_id) VALUES ('da Costa LT', 9727977)\n",
            "INSERT INTO authors (author_name, pubmed_id) VALUES ('Morin PJ', 9727977)\n",
            "INSERT INTO authors (author_name, pubmed_id) VALUES ('Vogelstein B', 9727977)\n",
            "INSERT INTO authors (author_name, pubmed_id) VALUES ('Kinzler KW', 9727977)\n",
            "INSERT INTO authors (author_name, pubmed_id) VALUES ('Morin PJ', 9065402)\n",
            "INSERT INTO authors (author_name, pubmed_id) VALUES ('Sparks AB', 9065402)\n",
            "INSERT INTO authors (author_name, pubmed_id) VALUES ('Korinek V', 9065402)\n",
            "INSERT INTO authors (author_name, pubmed_id) VALUES ('Barker N', 9065402)\n",
            "INSERT INTO authors (author_name, pubmed_id) VALUES ('Clevers H', 9065402)\n",
            "INSERT INTO authors (author_name, pubmed_id) VALUES ('Vogelstein B', 9065402)\n",
            "INSERT INTO authors (author_name, pubmed_id) VALUES ('Kinzler KW', 9065402)\n",
            "INSERT INTO authors (author_name, pubmed_id) VALUES ('Redondo MJ', 36282337)\n",
            "INSERT INTO authors (author_name, pubmed_id) VALUES ('Richardson SJ', 36282337)\n",
            "INSERT INTO authors (author_name, pubmed_id) VALUES ('Perry D', 36282337)\n",
            "INSERT INTO authors (author_name, pubmed_id) VALUES ('Minard CG', 36282337)\n",
            "INSERT INTO authors (author_name, pubmed_id) VALUES ('Carr ALJ', 36282337)\n",
            "INSERT INTO authors (author_name, pubmed_id) VALUES ('Brusko T', 36282337)\n",
            "INSERT INTO authors (author_name, pubmed_id) VALUES ('Kusmartseva I', 36282337)\n",
            "INSERT INTO authors (author_name, pubmed_id) VALUES ('Pugliese A', 36282337)\n",
            "INSERT INTO authors (author_name, pubmed_id) VALUES ('Atkinson MA', 36282337)\n",
            "INSERT INTO authors (author_name, pubmed_id) VALUES ('Madhu SV', 36263318)\n",
            "INSERT INTO authors (author_name, pubmed_id) VALUES ('Mishra BK', 36263318)\n",
            "INSERT INTO authors (author_name, pubmed_id) VALUES ('Mannar V', 36263318)\n",
            "INSERT INTO authors (author_name, pubmed_id) VALUES ('Aslam M', 36263318)\n",
            "INSERT INTO authors (author_name, pubmed_id) VALUES ('Banerjee B', 36263318)\n",
            "INSERT INTO authors (author_name, pubmed_id) VALUES ('Agrawal V', 36263318)\n",
            "INSERT INTO authors (author_name, pubmed_id) VALUES ('Hu Y', 36116131)\n",
            "INSERT INTO authors (author_name, pubmed_id) VALUES ('Zhang B', 36116131)\n",
            "INSERT INTO authors (author_name, pubmed_id) VALUES ('Lu P', 36116131)\n",
            "INSERT INTO authors (author_name, pubmed_id) VALUES ('Wang J', 36116131)\n",
            "INSERT INTO authors (author_name, pubmed_id) VALUES ('Chen C', 36116131)\n",
            "INSERT INTO authors (author_name, pubmed_id) VALUES ('Yin Y', 36116131)\n",
            "INSERT INTO authors (author_name, pubmed_id) VALUES ('Wan Q', 36116131)\n",
            "INSERT INTO authors (author_name, pubmed_id) VALUES ('Wang J', 36116131)\n",
            "INSERT INTO authors (author_name, pubmed_id) VALUES ('Jiao J', 36116131)\n",
            "INSERT INTO authors (author_name, pubmed_id) VALUES ('Fang X', 36116131)\n",
            "INSERT INTO authors (author_name, pubmed_id) VALUES ('Pu Z', 36116131)\n",
            "INSERT INTO authors (author_name, pubmed_id) VALUES ('Gong L', 36116131)\n",
            "INSERT INTO authors (author_name, pubmed_id) VALUES ('Ji L', 36116131)\n",
            "INSERT INTO authors (author_name, pubmed_id) VALUES ('Zhu L', 36116131)\n",
            "INSERT INTO authors (author_name, pubmed_id) VALUES ('Zhang R', 36116131)\n",
            "INSERT INTO authors (author_name, pubmed_id) VALUES ('Zhang J', 36116131)\n",
            "INSERT INTO authors (author_name, pubmed_id) VALUES ('Yang X', 36116131)\n",
            "INSERT INTO authors (author_name, pubmed_id) VALUES ('Wang Q', 36116131)\n",
            "INSERT INTO authors (author_name, pubmed_id) VALUES ('Huang Z', 36116131)\n",
            "INSERT INTO authors (author_name, pubmed_id) VALUES ('Zou J', 36116131)\n",
            "INSERT INTO authors (author_name, pubmed_id) VALUES ('Rosales-Reynoso MA', 35996498)\n",
            "INSERT INTO authors (author_name, pubmed_id) VALUES ('Rosas-Enríquez V', 35996498)\n",
            "INSERT INTO authors (author_name, pubmed_id) VALUES ('Saucedo-Sariñana AM', 35996498)\n",
            "INSERT INTO authors (author_name, pubmed_id) VALUES ('Pérez-Coria M', 35996498)\n",
            "INSERT INTO authors (author_name, pubmed_id) VALUES ('Gallegos-Arreola MP', 35996498)\n",
            "INSERT INTO authors (author_name, pubmed_id) VALUES ('Salas-González E', 35996498)\n",
            "INSERT INTO authors (author_name, pubmed_id) VALUES ('Barros-Núñez P', 35996498)\n",
            "INSERT INTO authors (author_name, pubmed_id) VALUES ('Juárez-Vázquez CI', 35996498)\n",
            "INSERT INTO authors (author_name, pubmed_id) VALUES ('Flores-Martínez SE', 35996498)\n",
            "INSERT INTO authors (author_name, pubmed_id) VALUES ('Sánchez-Corona J', 35996498)\n",
            "INSERT INTO authors (author_name, pubmed_id) VALUES ('Vacik T', 22157225)\n",
            "INSERT INTO authors (author_name, pubmed_id) VALUES ('Lemke G', 22157225)\n",
            "INSERT INTO authors (author_name, pubmed_id) VALUES ('Vacik T', 21856776)\n",
            "INSERT INTO authors (author_name, pubmed_id) VALUES ('Stubbs JL', 21856776)\n",
            "INSERT INTO authors (author_name, pubmed_id) VALUES ('Lemke G', 21856776)\n",
            "INSERT INTO authors (author_name, pubmed_id) VALUES ('He TC', 9727977)\n",
            "INSERT INTO authors (author_name, pubmed_id) VALUES ('Sparks AB', 9727977)\n",
            "INSERT INTO authors (author_name, pubmed_id) VALUES ('Rago C', 9727977)\n",
            "INSERT INTO authors (author_name, pubmed_id) VALUES ('Hermeking H', 9727977)\n",
            "INSERT INTO authors (author_name, pubmed_id) VALUES ('Zawel L', 9727977)\n",
            "INSERT INTO authors (author_name, pubmed_id) VALUES ('da Costa LT', 9727977)\n",
            "INSERT INTO authors (author_name, pubmed_id) VALUES ('Morin PJ', 9727977)\n",
            "INSERT INTO authors (author_name, pubmed_id) VALUES ('Vogelstein B', 9727977)\n",
            "INSERT INTO authors (author_name, pubmed_id) VALUES ('Kinzler KW', 9727977)\n",
            "INSERT INTO authors (author_name, pubmed_id) VALUES ('Morin PJ', 9065402)\n",
            "INSERT INTO authors (author_name, pubmed_id) VALUES ('Sparks AB', 9065402)\n",
            "INSERT INTO authors (author_name, pubmed_id) VALUES ('Korinek V', 9065402)\n",
            "INSERT INTO authors (author_name, pubmed_id) VALUES ('Barker N', 9065402)\n",
            "INSERT INTO authors (author_name, pubmed_id) VALUES ('Clevers H', 9065402)\n",
            "INSERT INTO authors (author_name, pubmed_id) VALUES ('Vogelstein B', 9065402)\n",
            "INSERT INTO authors (author_name, pubmed_id) VALUES ('Kinzler KW', 9065402)\n",
            "INSERT INTO authors (author_name, pubmed_id) VALUES ('Korinek V', 9065401)\n",
            "INSERT INTO authors (author_name, pubmed_id) VALUES ('Barker N', 9065401)\n",
            "INSERT INTO authors (author_name, pubmed_id) VALUES ('Morin PJ', 9065401)\n",
            "INSERT INTO authors (author_name, pubmed_id) VALUES ('van Wichen D', 9065401)\n",
            "INSERT INTO authors (author_name, pubmed_id) VALUES ('de Weger R', 9065401)\n",
            "INSERT INTO authors (author_name, pubmed_id) VALUES ('Kinzler KW', 9065401)\n",
            "INSERT INTO authors (author_name, pubmed_id) VALUES ('Vogelstein B', 9065401)\n",
            "INSERT INTO authors (author_name, pubmed_id) VALUES ('Clevers H', 9065401)\n",
            "INSERT INTO authors (author_name, pubmed_id) VALUES ('Redondo MJ', 36282337)\n",
            "INSERT INTO authors (author_name, pubmed_id) VALUES ('Richardson SJ', 36282337)\n",
            "INSERT INTO authors (author_name, pubmed_id) VALUES ('Perry D', 36282337)\n",
            "INSERT INTO authors (author_name, pubmed_id) VALUES ('Minard CG', 36282337)\n",
            "INSERT INTO authors (author_name, pubmed_id) VALUES ('Carr ALJ', 36282337)\n",
            "INSERT INTO authors (author_name, pubmed_id) VALUES ('Brusko T', 36282337)\n",
            "INSERT INTO authors (author_name, pubmed_id) VALUES ('Kusmartseva I', 36282337)\n",
            "INSERT INTO authors (author_name, pubmed_id) VALUES ('Pugliese A', 36282337)\n",
            "INSERT INTO authors (author_name, pubmed_id) VALUES ('Atkinson MA', 36282337)\n",
            "INSERT INTO authors (author_name, pubmed_id) VALUES ('Madhu SV', 36263318)\n",
            "INSERT INTO authors (author_name, pubmed_id) VALUES ('Mishra BK', 36263318)\n",
            "INSERT INTO authors (author_name, pubmed_id) VALUES ('Mannar V', 36263318)\n",
            "INSERT INTO authors (author_name, pubmed_id) VALUES ('Aslam M', 36263318)\n",
            "INSERT INTO authors (author_name, pubmed_id) VALUES ('Banerjee B', 36263318)\n",
            "INSERT INTO authors (author_name, pubmed_id) VALUES ('Agrawal V', 36263318)\n",
            "INSERT INTO authors (author_name, pubmed_id) VALUES ('Hu Y', 36116131)\n",
            "INSERT INTO authors (author_name, pubmed_id) VALUES ('Zhang B', 36116131)\n",
            "INSERT INTO authors (author_name, pubmed_id) VALUES ('Lu P', 36116131)\n",
            "INSERT INTO authors (author_name, pubmed_id) VALUES ('Wang J', 36116131)\n",
            "INSERT INTO authors (author_name, pubmed_id) VALUES ('Chen C', 36116131)\n",
            "INSERT INTO authors (author_name, pubmed_id) VALUES ('Yin Y', 36116131)\n",
            "INSERT INTO authors (author_name, pubmed_id) VALUES ('Wan Q', 36116131)\n",
            "INSERT INTO authors (author_name, pubmed_id) VALUES ('Wang J', 36116131)\n",
            "INSERT INTO authors (author_name, pubmed_id) VALUES ('Jiao J', 36116131)\n",
            "INSERT INTO authors (author_name, pubmed_id) VALUES ('Fang X', 36116131)\n",
            "INSERT INTO authors (author_name, pubmed_id) VALUES ('Pu Z', 36116131)\n",
            "INSERT INTO authors (author_name, pubmed_id) VALUES ('Gong L', 36116131)\n",
            "INSERT INTO authors (author_name, pubmed_id) VALUES ('Ji L', 36116131)\n",
            "INSERT INTO authors (author_name, pubmed_id) VALUES ('Zhu L', 36116131)\n",
            "INSERT INTO authors (author_name, pubmed_id) VALUES ('Zhang R', 36116131)\n",
            "INSERT INTO authors (author_name, pubmed_id) VALUES ('Zhang J', 36116131)\n",
            "INSERT INTO authors (author_name, pubmed_id) VALUES ('Yang X', 36116131)\n",
            "INSERT INTO authors (author_name, pubmed_id) VALUES ('Wang Q', 36116131)\n",
            "INSERT INTO authors (author_name, pubmed_id) VALUES ('Huang Z', 36116131)\n",
            "INSERT INTO authors (author_name, pubmed_id) VALUES ('Zou J', 36116131)\n",
            "INSERT INTO authors (author_name, pubmed_id) VALUES ('Rosales-Reynoso MA', 35996498)\n",
            "INSERT INTO authors (author_name, pubmed_id) VALUES ('Rosas-Enríquez V', 35996498)\n",
            "INSERT INTO authors (author_name, pubmed_id) VALUES ('Saucedo-Sariñana AM', 35996498)\n",
            "INSERT INTO authors (author_name, pubmed_id) VALUES ('Pérez-Coria M', 35996498)\n",
            "INSERT INTO authors (author_name, pubmed_id) VALUES ('Gallegos-Arreola MP', 35996498)\n",
            "INSERT INTO authors (author_name, pubmed_id) VALUES ('Salas-González E', 35996498)\n",
            "INSERT INTO authors (author_name, pubmed_id) VALUES ('Barros-Núñez P', 35996498)\n",
            "INSERT INTO authors (author_name, pubmed_id) VALUES ('Juárez-Vázquez CI', 35996498)\n",
            "INSERT INTO authors (author_name, pubmed_id) VALUES ('Flores-Martínez SE', 35996498)\n",
            "INSERT INTO authors (author_name, pubmed_id) VALUES ('Sánchez-Corona J', 35996498)\n",
            "INSERT INTO authors (author_name, pubmed_id) VALUES ('Vacik T', 22157225)\n",
            "INSERT INTO authors (author_name, pubmed_id) VALUES ('Lemke G', 22157225)\n",
            "INSERT INTO authors (author_name, pubmed_id) VALUES ('Vacik T', 21856776)\n",
            "INSERT INTO authors (author_name, pubmed_id) VALUES ('Stubbs JL', 21856776)\n",
            "INSERT INTO authors (author_name, pubmed_id) VALUES ('Lemke G', 21856776)\n",
            "INSERT INTO authors (author_name, pubmed_id) VALUES ('He TC', 9727977)\n",
            "INSERT INTO authors (author_name, pubmed_id) VALUES ('Sparks AB', 9727977)\n",
            "INSERT INTO authors (author_name, pubmed_id) VALUES ('Rago C', 9727977)\n",
            "INSERT INTO authors (author_name, pubmed_id) VALUES ('Hermeking H', 9727977)\n",
            "INSERT INTO authors (author_name, pubmed_id) VALUES ('Zawel L', 9727977)\n",
            "INSERT INTO authors (author_name, pubmed_id) VALUES ('da Costa LT', 9727977)\n",
            "INSERT INTO authors (author_name, pubmed_id) VALUES ('Morin PJ', 9727977)\n",
            "INSERT INTO authors (author_name, pubmed_id) VALUES ('Vogelstein B', 9727977)\n",
            "INSERT INTO authors (author_name, pubmed_id) VALUES ('Kinzler KW', 9727977)\n",
            "INSERT INTO authors (author_name, pubmed_id) VALUES ('Morin PJ', 9065402)\n",
            "INSERT INTO authors (author_name, pubmed_id) VALUES ('Sparks AB', 9065402)\n",
            "INSERT INTO authors (author_name, pubmed_id) VALUES ('Korinek V', 9065402)\n",
            "INSERT INTO authors (author_name, pubmed_id) VALUES ('Barker N', 9065402)\n",
            "INSERT INTO authors (author_name, pubmed_id) VALUES ('Clevers H', 9065402)\n",
            "INSERT INTO authors (author_name, pubmed_id) VALUES ('Vogelstein B', 9065402)\n",
            "INSERT INTO authors (author_name, pubmed_id) VALUES ('Kinzler KW', 9065402)\n",
            "INSERT INTO authors (author_name, pubmed_id) VALUES ('Korinek V', 9065401)\n",
            "INSERT INTO authors (author_name, pubmed_id) VALUES ('Barker N', 9065401)\n",
            "INSERT INTO authors (author_name, pubmed_id) VALUES ('Morin PJ', 9065401)\n",
            "INSERT INTO authors (author_name, pubmed_id) VALUES ('van Wichen D', 9065401)\n",
            "INSERT INTO authors (author_name, pubmed_id) VALUES ('de Weger R', 9065401)\n",
            "INSERT INTO authors (author_name, pubmed_id) VALUES ('Kinzler KW', 9065401)\n",
            "INSERT INTO authors (author_name, pubmed_id) VALUES ('Vogelstein B', 9065401)\n",
            "INSERT INTO authors (author_name, pubmed_id) VALUES ('Clevers H', 9065401)\n",
            "INSERT INTO authors (author_name, pubmed_id) VALUES ('Castrop J', 1741298)\n",
            "INSERT INTO authors (author_name, pubmed_id) VALUES ('van Norren K', 1741298)\n",
            "INSERT INTO authors (author_name, pubmed_id) VALUES ('Clevers H', 1741298)\n"
          ]
        }
      ],
      "source": [
        "author_names = dict()\n",
        "\n",
        "for id in pubmed_id:\n",
        "    if id != '':\n",
        "        pubmed_handle = Entrez.esummary(db=\"pubmed\", id=id, retmode=\"xml\")\n",
        "        pubmed_record = Entrez.read(pubmed_handle)\n",
        "        pubmed_handle.close()\n",
        "\n",
        "        for info in pubmed_record:\n",
        "            author_names[id] = info['AuthorList']\n",
        "            \n",
        "        for id, authors in author_names.items():\n",
        "            for name in authors:\n",
        "                sql_authors = f\"INSERT INTO authors (author_name, pubmed_id) VALUES ('{name}', {id})\"\n",
        "                print(sql_authors)\n",
        "                Cursor.execute(sql_authors)\n",
        "                DataBase.commit()\n",
        "    else:\n",
        "        print('Sem resultados')\n"
      ]
    },
    {
      "cell_type": "markdown",
      "metadata": {
        "id": "vSgjv2C6KlRO"
      },
      "source": [
        "### Tabela feat_source ###"
      ]
    },
    {
      "cell_type": "code",
      "execution_count": 18,
      "metadata": {
        "id": "zc6scc9eKlRO",
        "outputId": "957375b8-4055-4c5a-9b21-004f9a3de694"
      },
      "outputs": [
        {
          "name": "stdout",
          "output_type": "stream",
          "text": [
            "INSERT INTO feat_source (location, organism, db_xref, locus_accession) VALUES (\"[0:3781](+)\", \"{'Homo sapiens'}\", \"{'taxon:9606'}\", \"NM_001198530\")\n"
          ]
        }
      ],
      "source": [
        "features = record.features\n",
        "\n",
        "for i in features:\n",
        "    if i.type == 'source':\n",
        "        location = set(i for i in i.location)\n",
        "        organism = set(i for i in i.qualifiers['organism'])\n",
        "        db_xref = set(i.qualifiers['db_xref'])\n",
        "\n",
        "        sql_feat_source = f'INSERT INTO feat_source (location, organism, db_xref, locus_accession) VALUES (\"{i.location}\", \"{organism}\", \"{db_xref}\", \"{locus_accession}\")'\n",
        "        print(sql_feat_source)\n",
        "        Cursor.execute(sql_feat_source)\n",
        "        DataBase.commit()\n",
        "        \n"
      ]
    },
    {
      "cell_type": "markdown",
      "metadata": {
        "id": "jKrKVx4SKlRP"
      },
      "source": [
        "### Tabela feat_cds ###"
      ]
    },
    {
      "cell_type": "code",
      "execution_count": 19,
      "metadata": {
        "id": "LQxPWbFlKlRP",
        "outputId": "0429f4e6-33ca-4956-f652-a66ea9b6fe9c"
      },
      "outputs": [
        {
          "name": "stdout",
          "output_type": "stream",
          "text": [
            "INSERT INTO feat_cds (location, codon_start, protein_id, translation, locus_accession) VALUES (\"[510:1737](+)\", \"1\", \"NP_001185459.1\", \"MPQLNGGGGDDLGANDELISFKDEGEQEEKSSENSSAERDLADVKSSLVNESETNQNSSSDSEAERRPPPRSESFRDKSRESLEEAAKRQDGGLFKGPPYPGYPFIMIPDLTSPYLPNGSLSPTARTSNKVPVVQHPHHVHPLTPLITYSNEHFTPGNPPPHLPADVDPKTGIPRPPHPPDISPYYPLSPGTVGQIPHPLGWLVPQQGQPVYPITTGGFRHPYPTALTVNASMSRFPPHMVPPHHTLHTTGIPHPAIVTPTVKQESSQSDVGSLHSSKHQDSKKEEEKKKPHIKKPLNAFMLYMKEMRAKVVAECTLKESAAINQILGRRWHALSREEQAKYYELARKERQLHMQLYPGWSARDNYGKKKKRKRDKQPGETNGEKKSAFATYKVKAAASAHPLQMEAY\", \"NM_001198530\")\n"
          ]
        }
      ],
      "source": [
        "location_list = list()\n",
        "codon_start_list = list()\n",
        "product_list = list()\n",
        "protein_id_list = list()\n",
        "translation_list = list()\n",
        "\n",
        "for i in features:\n",
        "    if i.type == 'CDS':\n",
        "            \n",
        "        location_list.append(i.location)\n",
        "        codon_start_list.append(i.qualifiers['codon_start'])\n",
        "        protein_id_list.append(i.qualifiers['protein_id'])\n",
        "        translation_list.append(i.qualifiers['translation'])\n",
        "        if 'product' in i.qualifiers.keys():\n",
        "            product_list.append(i.qualifiers['product'])\n",
        "\n",
        "if 'product' in i.qualifiers.keys():\n",
        "   for i in zip(location_list, codon_start_list, product_list, protein_id_list, translation_list):\n",
        "        sql_feat_cds = f'INSERT INTO feat_cds (location, codon_start, product, protein_id, translation, locus_accession) VALUES (\"{i[0]}\", \"{i[1][0]}\", \"{i[2][0]}\", \"{i[3][0]}\", \"{i[4][0]}\", \"{locus_accession}\")'\n",
        "        print(sql_feat_cds) \n",
        "        Cursor.execute(sql_feat_cds)\n",
        "        DataBase.commit()\n",
        "        \n",
        "else:\n",
        "    for i in zip(location_list, codon_start_list, protein_id_list, translation_list):\n",
        "        sql_feat_cds = f'INSERT INTO feat_cds (location, codon_start, protein_id, translation, locus_accession) VALUES (\"{i[0]}\", \"{i[1][0]}\", \"{i[2][0]}\", \"{i[3][0]}\", \"{locus_accession}\")'\n",
        "        print(sql_feat_cds)\n",
        "        Cursor.execute(sql_feat_cds)\n",
        "        DataBase.commit()\n",
        "        "
      ]
    },
    {
      "cell_type": "markdown",
      "metadata": {
        "id": "asr_3QvAKlRP"
      },
      "source": [
        "### Tabela feat_gene ###"
      ]
    },
    {
      "cell_type": "code",
      "execution_count": 20,
      "metadata": {
        "id": "HBGgxMA4KlRP",
        "outputId": "4f3052fc-e3c1-4dbe-91a4-17137e1cea8c"
      },
      "outputs": [
        {
          "name": "stdout",
          "output_type": "stream",
          "text": [
            "INSERT INTO feat_gene (location, name, locus_accession) VALUES (\"[0:3781](+)\", \"TCF7L2\", \"NM_001198530\")\n"
          ]
        }
      ],
      "source": [
        "for i in features:\n",
        "    if i.type == 'gene':\n",
        "        \n",
        "        gene_location_list = list()\n",
        "        gene_name_list = list()\n",
        "\n",
        "        gene_location_list.append(i.location)\n",
        "        \n",
        "        if 'locus_tag' in i.qualifiers.keys():\n",
        "            gene_name_list.append(i.qualifiers['locus_tag'])\n",
        "        elif 'gene' in i.qualifiers.keys():\n",
        "            gene_name_list.append(i.qualifiers['gene'])\n",
        "\n",
        "        if 'locus_tag' or 'gene' in i.qualifiers.keys():\n",
        "            for i in zip(gene_location_list, gene_name_list):\n",
        "                sql_feat_gene = f'INSERT INTO feat_gene (location, name, locus_accession) VALUES (\"{i[0]}\", \"{i[1][0]}\", \"{locus_accession}\")'\n",
        "                print(sql_feat_gene)    \n",
        "                Cursor.execute(sql_feat_gene)\n",
        "                DataBase.commit()\n",
        "                \n",
        "        else:\n",
        "            for i in gene_location_list:\n",
        "                sql_feat_gene = f'INSERT INTO feat_gene (location, locus_accession) VALUES (\"{i}\", \"{locus_accession}\")'\n",
        "                print(sql_feat_gene)    \n",
        "                Cursor.execute(sql_feat_gene)\n",
        "                DataBase.commit()\n",
        "                "
      ]
    }
  ],
  "metadata": {
    "colab": {
      "provenance": []
    },
    "kernelspec": {
      "display_name": "Python 3",
      "language": "python",
      "name": "python3"
    },
    "language_info": {
      "codemirror_mode": {
        "name": "ipython",
        "version": 3
      },
      "file_extension": ".py",
      "mimetype": "text/x-python",
      "name": "python",
      "nbconvert_exporter": "python",
      "pygments_lexer": "ipython3",
      "version": "3.10.7 (tags/v3.10.7:6cc6b13, Sep  5 2022, 14:08:36) [MSC v.1933 64 bit (AMD64)]"
    },
    "orig_nbformat": 4,
    "vscode": {
      "interpreter": {
        "hash": "68244b10fadec1b3e625e9157df0e88cca746a2e21e581f39bebc9f0b519388c"
      }
    }
  },
  "nbformat": 4,
  "nbformat_minor": 0
}
