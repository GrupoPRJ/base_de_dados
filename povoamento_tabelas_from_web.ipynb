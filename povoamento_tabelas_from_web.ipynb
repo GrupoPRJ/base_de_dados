{
  "cells": [
    {
      "cell_type": "code",
      "execution_count": 16,
      "metadata": {},
      "outputs": [],
      "source": [
        "import mysql.connector as SQLC\n",
        "\n",
        "DataBase = SQLC.connect(\n",
        "   host =\"*********\",\n",
        "   user =\"******\",\n",
        "   password =\"*******\",\n",
        "    database =\"******\"\n",
        ")\n",
        "Cursor = DataBase.cursor()"
      ]
    },
    {
      "cell_type": "code",
      "execution_count": 17,
      "metadata": {
        "id": "cLP_ZSGzKlRI"
      },
      "outputs": [],
      "source": [
        "from Bio import SeqIO\n",
        "from Bio import Entrez"
      ]
    },
    {
      "cell_type": "code",
      "execution_count": 18,
      "metadata": {},
      "outputs": [],
      "source": [
        "Entrez.email = '********@alunos.uminho.pt'\n",
        "handle = Entrez.efetch(db=\"nucleotide\", id='*******', rettype=\"gb\", retmode=\"text\")\n",
        "record = SeqIO.read(handle, 'gb')"
      ]
    },
    {
      "cell_type": "markdown",
      "metadata": {
        "id": "ntlCbE9WKlRK"
      },
      "source": [
        "### Tabela Locus ###"
      ]
    },
    {
      "cell_type": "code",
      "execution_count": 19,
      "metadata": {
        "id": "oZkjalywKlRL",
        "outputId": "be08be55-aada-47db-a9b5-128b87cd314a"
      },
      "outputs": [
        {
          "name": "stdout",
          "output_type": "stream",
          "text": [
            "INSERT INTO locus (accession, locus_name, molecule, segment_type, genbank_date, genbank_division) VALUES ('JSJU01002366.1', 'JSJU01002366', 'DNA', 'linear', '13-NOV-2014', 'BCT')\n"
          ]
        }
      ],
      "source": [
        "accession= record.id\n",
        "\n",
        "locus_name = record.name\n",
        "\n",
        "molecule = record.annotations['molecule_type']\n",
        "\n",
        "segment_type = record.annotations['topology']\n",
        "\n",
        "genbank_date = record.annotations['date']\n",
        "\n",
        "genbank_division = record.annotations['data_file_division']\n",
        "\n",
        "\n",
        "sql_locus = f\"INSERT INTO locus (accession, locus_name, molecule, segment_type, genbank_date, genbank_division) VALUES ('{accession}', '{locus_name}', '{molecule}', '{segment_type}', '{genbank_date}', '{genbank_division}')\"\n",
        "\n",
        "print(sql_locus)\n",
        "\n",
        "Cursor.execute(sql_locus)\n",
        "\n",
        "DataBase.commit()"
      ]
    },
    {
      "cell_type": "markdown",
      "metadata": {
        "id": "lVo1Qbl3KlRL"
      },
      "source": [
        "### Tabela sequences ###"
      ]
    },
    {
      "cell_type": "code",
      "execution_count": 20,
      "metadata": {},
      "outputs": [
        {
          "name": "stdout",
          "output_type": "stream",
          "text": [
            "INSERT INTO sequences (seq, seq_length, locus_accession) VALUES ('ACTCCATACGGTTGTTGGTGGTGCGGGTGTAGCCAGCGCTAAAGGTTTTCTCGCGTCCGCGATAGCGTAAAATAGCGCCGTAACCCCCAGGTCCTGGATTGCCCAGACACGAACCATCGGTGAAAATTTCTACCTGTTTAAGCATCTCTGGTAGACTTCCTGTAATTGAATCGAACTGTAAAACGACAAGTCTGACATAAATGACCGCTATGAGCACTGCAATTACACGCCAGATCGTTCTCGATACCGAAACCACCGGTATGAACCAGATTGGTGCGCACTATGAAGGCCACAAGATCATTGAGATTGGTGCCGTTGAAGTGGTGAACCGTCGCCTGACGGGCAATAACTTCCATGTTTATCTCAAACCCGATCGGCTGGTGGATCCGGAAGCCTTTGGCGTACATGGTATTGCCGATGAATTTTTGCTCGATAAGCCCACGTTTGCCGAAGTAGCCGATGAGTTCATGGACTATATTCGCGGCGCGGAGTTGGTGATCCATAACGCAGCGTTCGATATCGGCTTTATGGACTACGAGTTTTCGTTGCTTAAGCGCGATATTCCGAAGACCAATACTTTCTGTAAGGTCACCGATAGCCTTGCGGTGGCGAGGAAAATGTTTCCCGGTAAGCGCAACAGCCTCGATGCGTTATGTGCTCGCTACGAAATAGATAACAGTAAACGAACGCTGCACGGGGCATTACTCGATGCCCAGATCCTTGCGGAAGTTTATCTGGCGATGACCGGTGGTCAAACGTCGATGGCTTTTGCGATGGAAGGAGAGACACAACAGCAACAAGGTGAAGCAACAATTCAGCGCATTGTACGTCAGGCAAGTAAGTTACGCGTTGTTTTTGCGACAGATGAAGAGATTGCAGCTCATGAAGCCCGTCTCGATCTGGTGCAGAAGAAAGGCGGAAGTTGCCTCTGGCGAGCATAAATACCTGTGAAAGGCGCTAAAAATAGCGACTTGGGCGATTTTTGCAGCAAACGATTCAAAAGATGAGAAAAACCGTTGACGAAGGTCGAGGCAATCCGTAATATTCGCCTCGTTCCCAACGGAACAC', 1068, 'JSJU01002366.1')\n"
          ]
        }
      ],
      "source": [
        "seq = record.seq\n",
        "\n",
        "seq_length = len(seq)\n",
        "\n",
        "locus_accession = accession\n",
        "\n",
        "sql_sequences = f\"INSERT INTO sequences (seq, seq_length, locus_accession) VALUES ('{seq}', {seq_length}, '{locus_accession}')\"\n",
        "\n",
        "print(sql_sequences)\n",
        "\n",
        "Cursor.execute(sql_sequences)\n",
        "DataBase.commit()"
      ]
    },
    {
      "cell_type": "markdown",
      "metadata": {
        "id": "U0hWj41UKlRM"
      },
      "source": [
        "### Tabela definition ###\n"
      ]
    },
    {
      "cell_type": "code",
      "execution_count": 21,
      "metadata": {
        "id": "YIdlQXu7KlRM",
        "outputId": "dbeded07-dc96-4fb2-c3d4-a2c0e8ba921d"
      },
      "outputs": [
        {
          "name": "stdout",
          "output_type": "stream",
          "text": [
            "INSERT INTO definition (definition, locus_accession) VALUES ('Escherichia coli strain upec-247 upec-247_ctg_12126, whole genome shotgun sequence', 'JSJU01002366.1')\n"
          ]
        }
      ],
      "source": [
        "definition = record.description\n",
        "\n",
        "locus_accession = accession\n",
        "\n",
        "sql_definition = f\"INSERT INTO definition (definition, locus_accession) VALUES ('{definition}', '{locus_accession}')\"\n",
        "\n",
        "print(sql_definition)\n",
        "\n",
        "Cursor.execute(sql_definition)\n",
        "\n",
        "DataBase.commit()"
      ]
    },
    {
      "cell_type": "markdown",
      "metadata": {
        "id": "69soMHmTKlRM"
      },
      "source": [
        "### Tabela locus_keywords ###"
      ]
    },
    {
      "cell_type": "code",
      "execution_count": 22,
      "metadata": {
        "id": "R3U5_NEeKlRM",
        "outputId": "45b0aa05-9b8b-46e2-8b8d-531e89d0c009"
      },
      "outputs": [
        {
          "name": "stdout",
          "output_type": "stream",
          "text": [
            "INSERT INTO locus_keywords (locus_accession, key_order, keyword_name) VALUES ('JSJU01002366.1', 1, 'WGS')\n"
          ]
        }
      ],
      "source": [
        "keyword_dict = {}\n",
        "\n",
        "keywords_name = record.annotations['keywords']\n",
        "\n",
        "for num, keyword in enumerate(keywords_name):\n",
        "    if keywords_name == ['']:\n",
        "        print('Este ficheiro não tem keywords associadas')\n",
        "    else:\n",
        "        sql_locus_keywords = f\"INSERT INTO locus_keywords (locus_accession, key_order, keyword_name) VALUES ('{locus_accession}', {num+1}, '{keyword}')\"\n",
        "        Cursor.execute(sql_locus_keywords)\n",
        "        DataBase.commit()\n",
        "        print(sql_locus_keywords)"
      ]
    },
    {
      "cell_type": "markdown",
      "metadata": {
        "id": "rcbwzBSLKlRN"
      },
      "source": [
        "### Tabela source ###"
      ]
    },
    {
      "cell_type": "code",
      "execution_count": 23,
      "metadata": {
        "id": "2h5mnVSuKlRN",
        "outputId": "22bb7e50-268b-4c4e-b91a-ac64ffcad95e"
      },
      "outputs": [
        {
          "name": "stdout",
          "output_type": "stream",
          "text": [
            "INSERT INTO source (scientific_name, locus_accession) VALUES ('Escherichia coli', 'JSJU01002366.1')\n"
          ]
        }
      ],
      "source": [
        "scientific_name = record.annotations['source']\n",
        "\n",
        "sql_source = f\"INSERT INTO source (scientific_name, locus_accession) VALUES ('{scientific_name}', '{locus_accession}')\"\n",
        "\n",
        "print(sql_source)\n",
        "\n",
        "Cursor.execute(sql_source)\n",
        "\n",
        "DataBase.commit()"
      ]
    },
    {
      "cell_type": "markdown",
      "metadata": {
        "id": "HQSzES3NKlRN"
      },
      "source": [
        "### Tabela taxonomy ###\n"
      ]
    },
    {
      "cell_type": "code",
      "execution_count": 24,
      "metadata": {
        "id": "bmFGHbUSKlRN",
        "outputId": "2af7a6ee-0258-4de0-d223-43fc25afdc5d"
      },
      "outputs": [
        {
          "name": "stdout",
          "output_type": "stream",
          "text": [
            "INSERT INTO taxonomy (taxonomy, locus_accession) VALUES ('Bacteria; Proteobacteria; Gammaproteobacteria; Enterobacterales; Enterobacteriaceae; Escherichia', 'JSJU01002366.1')\n"
          ]
        }
      ],
      "source": [
        "taxonomy = record.annotations['taxonomy']\n",
        "\n",
        "sql_taxonomy = f\"INSERT INTO taxonomy (taxonomy, locus_accession) VALUES ('{'; '.join(taxonomy)}', '{locus_accession}')\"\n",
        "\n",
        "print(sql_taxonomy)\n",
        "\n",
        "Cursor.execute(sql_taxonomy)\n",
        "\n",
        "DataBase.commit()"
      ]
    },
    {
      "cell_type": "markdown",
      "metadata": {
        "id": "TdQNagSAKlRO"
      },
      "source": [
        "### Tabela reference ###"
      ]
    },
    {
      "cell_type": "code",
      "execution_count": 25,
      "metadata": {
        "id": "2clTfCbJKlRO"
      },
      "outputs": [
        {
          "name": "stdout",
          "output_type": "stream",
          "text": [
            "INSERT INTO reference (title, journal, pubmed_id, locus_accession, ref_location) VALUES ('Large-scale genomic sequencing of extraintestinal pathogenic Escherichia coli strains', 'Genome Res. (2014) In press', '25373147', 'JSJU01002366.1', '[0:1068]')\n",
            "\n",
            "INSERT INTO reference (title, journal, locus_accession, ref_location) VALUES ('Direct Submission', 'Submitted (30-OCT-2014) University of Washington, 1959 NE Pacific Street, Seattle, WA 98177, USA', 'JSJU01002366.1', '[0:1068]')\n",
            "Esta referência não possui ID do pubmed\n",
            "\n"
          ]
        }
      ],
      "source": [
        "title = list()\n",
        "journal = list()\n",
        "pubmed_id = list()\n",
        "ref_location = list()\n",
        "\n",
        "\n",
        "for reference in record.annotations['references']:\n",
        "    title.append(reference.title)\n",
        "    journal.append(reference.journal)\n",
        "    pubmed_id.append(reference.pubmed_id)\n",
        "    for loc in reference.location:\n",
        "        ref_location.append(loc)\n",
        "\n",
        "    \n",
        "for i in zip(title, journal, pubmed_id, ref_location):\n",
        "    if i[2] == '' and i[3] == '':\n",
        "        sql_references = f\"INSERT INTO reference (title, journal, locus_accession) VALUES ('{i[0]}', '{i[1]}', '{locus_accession}')\"\n",
        "        print(sql_references)\n",
        "        print('Esta referência não possui ID do pubmed, nem descreve a sua localização')\n",
        "        print()\n",
        "        Cursor.execute(sql_references)\n",
        "        DataBase.commit()\n",
        "\n",
        "    elif i[2] == '' and i[3] != '':\n",
        "        sql_references = f\"INSERT INTO reference (title, journal, locus_accession, ref_location) VALUES ('{i[0]}', '{i[1]}', '{locus_accession}', '{i[3]}')\"\n",
        "        print(sql_references)\n",
        "        print('Esta referência não possui ID do pubmed')\n",
        "        print()\n",
        "        Cursor.execute(sql_references)\n",
        "        DataBase.commit()\n",
        "\n",
        "    elif i[2] != '' and i[3] == '':\n",
        "        sql_references = f\"INSERT INTO reference (title, journal, pubmed_id, locus_accession) VALUES ('{i[0]}', '{i[1]}', '{i[2]}', '{locus_accession}')\"\n",
        "        print(sql_references)\n",
        "        print('Esta referência não descreve a sua localização')\n",
        "        print()\n",
        "        Cursor.execute(sql_references)\n",
        "        DataBase.commit()\n",
        "        \n",
        "    else:\n",
        "        sql_references = f\"INSERT INTO reference (title, journal, pubmed_id, locus_accession, ref_location) VALUES ('{i[0]}', '{i[1]}', '{i[2]}', '{locus_accession}', '{i[3]}')\"\n",
        "        print(sql_references)\n",
        "        print()\n",
        "        Cursor.execute(sql_references)\n",
        "        DataBase.commit()"
      ]
    },
    {
      "cell_type": "markdown",
      "metadata": {
        "id": "CS7vjtZBKlRO"
      },
      "source": [
        "### Tabela pubmed ###"
      ]
    },
    {
      "cell_type": "code",
      "execution_count": 26,
      "metadata": {
        "id": "tP_YYGQFKlRO"
      },
      "outputs": [
        {
          "name": "stdout",
          "output_type": "stream",
          "text": [
            "INSERT INTO pubmed (pubmed_id, title, date, source, issue, pages, doi) VALUES (25373147, 'Large-scale genomic sequencing of extraintestinal pathogenic Escherichia coli strains.', '2015 Jan', 'Genome Res', '1', '119-28', '10.1101/gr.180190.114')\n",
            "Sem resultados\n"
          ]
        }
      ],
      "source": [
        "for id in pubmed_id:\n",
        "    if id != '':\n",
        "        pubmed_handle = Entrez.esummary(db=\"pubmed\", id=id, retmode=\"xml\")\n",
        "        pubmed_record = Entrez.read(pubmed_handle)\n",
        "        pubmed_handle.close()\n",
        "        for info in pubmed_record:\n",
        "            title_pubmed = list()\n",
        "            pub_date = list()\n",
        "            pub_source = list()\n",
        "            pub_issue = list()\n",
        "            pub_pages = list()\n",
        "            doi = list()\n",
        "\n",
        "            title_pubmed.append(info['Title'])\n",
        "            pub_date.append(info['PubDate'])\n",
        "            pub_source.append(info['Source'])\n",
        "            pub_issue.append(info['Issue'])\n",
        "            pub_pages.append(info['Pages'])\n",
        "            doi.append(info['DOI'])\n",
        "        \n",
        "        for i in zip(title_pubmed, pub_date, pub_source, pub_issue, pub_pages, doi):\n",
        "            sql_pubmed = f\"INSERT INTO pubmed (pubmed_id, title, date, source, issue, pages, doi) VALUES ({id}, '{i[0]}', '{i[1]}', '{i[2]}', '{i[3]}', '{i[4]}', '{i[5]}')\"\n",
        "            print(sql_pubmed)    \n",
        "            Cursor.execute(sql_pubmed)\n",
        "            DataBase.commit()\n",
        "            \n",
        "    else:\n",
        "        print('Sem resultados')\n"
      ]
    },
    {
      "cell_type": "markdown",
      "metadata": {
        "id": "LiBxXbHnKlRO"
      },
      "source": [
        "### Tabela authors ###"
      ]
    },
    {
      "cell_type": "code",
      "execution_count": 27,
      "metadata": {
        "id": "-QyX8lY8KlRO"
      },
      "outputs": [
        {
          "name": "stdout",
          "output_type": "stream",
          "text": [
            "INSERT INTO authors (author_name, pubmed_id) VALUES ('Salipante SJ', 25373147)\n",
            "INSERT INTO authors (author_name, pubmed_id) VALUES ('Roach DJ', 25373147)\n",
            "INSERT INTO authors (author_name, pubmed_id) VALUES ('Kitzman JO', 25373147)\n",
            "INSERT INTO authors (author_name, pubmed_id) VALUES ('Snyder MW', 25373147)\n",
            "INSERT INTO authors (author_name, pubmed_id) VALUES ('Stackhouse B', 25373147)\n",
            "INSERT INTO authors (author_name, pubmed_id) VALUES ('Butler-Wu SM', 25373147)\n",
            "INSERT INTO authors (author_name, pubmed_id) VALUES ('Lee C', 25373147)\n",
            "INSERT INTO authors (author_name, pubmed_id) VALUES ('Cookson BT', 25373147)\n",
            "INSERT INTO authors (author_name, pubmed_id) VALUES ('Shendure J', 25373147)\n",
            "Sem resultados\n"
          ]
        }
      ],
      "source": [
        "author_names = dict()\n",
        "\n",
        "for id in pubmed_id:\n",
        "    if id != '':\n",
        "        pubmed_handle = Entrez.esummary(db=\"pubmed\", id=id, retmode=\"xml\")\n",
        "        pubmed_record = Entrez.read(pubmed_handle)\n",
        "        pubmed_handle.close()\n",
        "\n",
        "        for info in pubmed_record:\n",
        "            author_names[id] = info['AuthorList']\n",
        "            \n",
        "        for id, authors in author_names.items():\n",
        "            for name in authors:\n",
        "                sql_authors = f\"INSERT INTO authors (author_name, pubmed_id) VALUES ('{name}', {id})\"\n",
        "                print(sql_authors)\n",
        "                Cursor.execute(sql_authors)\n",
        "                DataBase.commit()\n",
        "    else:\n",
        "        print('Sem resultados')\n",
        "               "
      ]
    },
    {
      "cell_type": "markdown",
      "metadata": {
        "id": "vSgjv2C6KlRO"
      },
      "source": [
        "### Tabela feat_source ###"
      ]
    },
    {
      "cell_type": "code",
      "execution_count": 28,
      "metadata": {
        "id": "zc6scc9eKlRO",
        "outputId": "957375b8-4055-4c5a-9b21-004f9a3de694"
      },
      "outputs": [
        {
          "name": "stdout",
          "output_type": "stream",
          "text": [
            "INSERT INTO feat_source (location, organism, db_xref, locus_accession) VALUES (\"[0:1068](+)\", \"{'Escherichia coli'}\", \"{'taxon:562'}\", \"JSJU01002366.1\")\n"
          ]
        }
      ],
      "source": [
        "features = record.features\n",
        "\n",
        "for i in features:\n",
        "    if i.type == 'source':\n",
        "        location = set(i for i in i.location)\n",
        "        organism = set(i for i in i.qualifiers['organism'])\n",
        "        db_xref = set(i.qualifiers['db_xref'])\n",
        "\n",
        "        sql_feat_source = f'INSERT INTO feat_source (location, organism, db_xref, locus_accession) VALUES (\"{i.location}\", \"{organism}\", \"{db_xref}\", \"{locus_accession}\")'\n",
        "        print(sql_feat_source)\n",
        "        Cursor.execute(sql_feat_source)\n",
        "        DataBase.commit()\n",
        "        \n"
      ]
    },
    {
      "cell_type": "markdown",
      "metadata": {
        "id": "jKrKVx4SKlRP"
      },
      "source": [
        "### Tabela feat_cds ###"
      ]
    },
    {
      "cell_type": "code",
      "execution_count": 29,
      "metadata": {
        "id": "LQxPWbFlKlRP",
        "outputId": "0429f4e6-33ca-4956-f652-a66ea9b6fe9c"
      },
      "outputs": [],
      "source": [
        "location_list = list()\n",
        "codon_start_list = list()\n",
        "product_list = list()\n",
        "protein_id_list = list()\n",
        "translation_list = list()\n",
        "\n",
        "for i in features:\n",
        "    if i.type == 'CDS':\n",
        "            \n",
        "        location_list.append(i.location)\n",
        "        codon_start_list.append(i.qualifiers['codon_start'])\n",
        "        protein_id_list.append(i.qualifiers['protein_id'])\n",
        "        translation_list.append(i.qualifiers['translation'])\n",
        "        if 'product' in i.qualifiers.keys():\n",
        "            product_list.append(i.qualifiers['product'])\n",
        "\n",
        "if 'product' in i.qualifiers.keys():\n",
        "   for i in zip(location_list, codon_start_list, product_list, protein_id_list, translation_list):\n",
        "        sql_feat_cds = f'INSERT INTO feat_cds (location, codon_start, product, protein_ib, translation, locus_accession) VALUES (\"{i[0]}\", \"{i[1][0]}\", \"{i[2][0]}\", \"{i[3][0]}\", \"{i[4][0]}\", \"{locus_accession}\")'\n",
        "        print(sql_feat_cds) \n",
        "        Cursor.execute(sql_feat_cds)\n",
        "        DataBase.commit()\n",
        "        \n",
        "else:\n",
        "    for i in zip(location_list, codon_start_list, protein_id_list, translation_list):\n",
        "        sql_feat_cds = f'INSERT INTO feat_cds (location, codon_start, protein_ib, translation, locus_accession) VALUES (\"{i[0]}\", \"{i[1][0]}\", \"{i[2][0]}\", \"{i[3][0]}\", \"{locus_accession}\")'\n",
        "        print(sql_feat_cds)\n",
        "        Cursor.execute(sql_feat_cds)\n",
        "        DataBase.commit()\n"
      ]
    },
    {
      "cell_type": "markdown",
      "metadata": {
        "id": "asr_3QvAKlRP"
      },
      "source": [
        "### Tabela feat_gene ###"
      ]
    },
    {
      "cell_type": "code",
      "execution_count": 30,
      "metadata": {
        "id": "HBGgxMA4KlRP",
        "outputId": "4f3052fc-e3c1-4dbe-91a4-17137e1cea8c"
      },
      "outputs": [],
      "source": [
        "for i in features:\n",
        "    if i.type == 'gene':\n",
        "        \n",
        "        gene_location_list = list()\n",
        "        gene_name_list = list()\n",
        "\n",
        "        gene_location_list.append(i.location)\n",
        "        \n",
        "        if 'locus_tag' in i.qualifiers.keys():\n",
        "            gene_name_list.append(i.qualifiers['locus_tag'])\n",
        "        elif 'gene' in i.qualifiers.keys():\n",
        "            gene_name_list.append(i.qualifiers['gene'])\n",
        "\n",
        "        if 'locus_tag' or 'gene' in i.qualifiers.keys():\n",
        "            for i in zip(gene_location_list, gene_name_list):\n",
        "                sql_feat_gene = f'INSERT INTO feat_gene (location, name, locus_accession) VALUES (\"{i[0]}\", \"{i[1][0]}\", \"{locus_accession}\")'\n",
        "                print(sql_feat_gene)    \n",
        "                Cursor.execute(sql_feat_gene)\n",
        "                DataBase.commit()\n",
        "                \n",
        "        else:\n",
        "            for i in gene_location_list:\n",
        "                sql_feat_gene = f'INSERT INTO feat_gene (location, locus_accession) VALUES (\"{i}\", \"{locus_accession}\")'\n",
        "                print(sql_feat_gene)    \n",
        "                Cursor.execute(sql_feat_gene)\n",
        "                DataBase.commit()"
      ]
    }
  ],
  "metadata": {
    "colab": {
      "provenance": []
    },
    "kernelspec": {
      "display_name": "Python 3",
      "language": "python",
      "name": "python3"
    },
    "language_info": {
      "codemirror_mode": {
        "name": "ipython",
        "version": 3
      },
      "file_extension": ".py",
      "mimetype": "text/x-python",
      "name": "python",
      "nbconvert_exporter": "python",
      "pygments_lexer": "ipython3",
      "version": "3.10.7"
    },
    "orig_nbformat": 4,
    "vscode": {
      "interpreter": {
        "hash": "68244b10fadec1b3e625e9157df0e88cca746a2e21e581f39bebc9f0b519388c"
      }
    }
  },
  "nbformat": 4,
  "nbformat_minor": 0
}
